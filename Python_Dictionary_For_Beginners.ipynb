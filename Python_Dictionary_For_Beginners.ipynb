{
  "cells": [
    {
      "cell_type": "markdown",
      "metadata": {
        "id": "view-in-github",
        "colab_type": "text"
      },
      "source": [
        "<a href=\"https://colab.research.google.com/github/omkarmohite123/Python_String-List-Tuple-Dictionary_for_beginners/blob/main/Python_Dictionary_For_Beginners.ipynb\" target=\"_parent\"><img src=\"https://colab.research.google.com/assets/colab-badge.svg\" alt=\"Open In Colab\"/></a>"
      ]
    },
    {
      "cell_type": "markdown",
      "metadata": {
        "id": "nCNGnr--0gkY"
      },
      "source": [
        "# Python Dictionary\n"
      ]
    },
    {
      "cell_type": "markdown",
      "metadata": {
        "id": "VSgjNS0o0gkc"
      },
      "source": [
        "## What is Dictionary in Python?\n",
        "\n",
        "\n",
        "<div>\n",
        "<img src=\"img/d0.png\" width=\"600\"/>\n",
        "</div>\n",
        "\n",
        "**Example:**\n",
        "\n",
        "```python\n",
        ">>> dict = { }  #empty dictionary\n",
        ">>> dict = {1:'Python',2:'Java',3:'C++'}\n",
        "```\n",
        "\n"
      ]
    },
    {
      "cell_type": "markdown",
      "metadata": {
        "id": "JxZ0msVZ0gkd"
      },
      "source": [
        "\n",
        "\n",
        "| Data types     | Type          |         |\n",
        "| :------------: | :-----------: |:------: |\n",
        "| **String**     | **immutable** |  |\n",
        "| **List**       | **mutable**   |✎|\n",
        "| **Tuple**      | **immutable** |  |\n",
        "| **Dictionary** | **mutable**   |✎|"
      ]
    },
    {
      "cell_type": "markdown",
      "metadata": {
        "id": "946G7ojY0gkd"
      },
      "source": [
        "## Creating Python Dictionary\n",
        "\n"
      ]
    },
    {
      "cell_type": "code",
      "execution_count": 57,
      "metadata": {
        "id": "MJQNR-Wq0gke",
        "outputId": "e80226f0-c5c0-43f7-b8cd-5d8f2db0990c",
        "colab": {
          "base_uri": "https://localhost:8080/"
        }
      },
      "outputs": [
        {
          "output_type": "execute_result",
          "data": {
            "text/plain": [
              "dict"
            ]
          },
          "metadata": {},
          "execution_count": 57
        }
      ],
      "source": [
        "d={}\n",
        "\n",
        "type(d)"
      ]
    },
    {
      "cell_type": "code",
      "execution_count": 58,
      "metadata": {
        "id": "4kHEX9CQ0gkf",
        "outputId": "e4d6d703-a3ba-4fe1-ce6a-fe92b36ab389",
        "colab": {
          "base_uri": "https://localhost:8080/"
        }
      },
      "outputs": [
        {
          "output_type": "execute_result",
          "data": {
            "text/plain": [
              "{1: 'Apple', 2: 'BALL', 3: 'cat'}"
            ]
          },
          "metadata": {},
          "execution_count": 58
        }
      ],
      "source": [
        "dict1 = {1:\"Apple\", 2:\"BALL\", 3: \"cat\"}\n",
        "\n",
        "dict1"
      ]
    },
    {
      "cell_type": "code",
      "execution_count": 59,
      "metadata": {
        "id": "wwkTscQ70gkg",
        "outputId": "eb0f4d26-6ca2-47f9-8ab8-38e8f93097e0",
        "colab": {
          "base_uri": "https://localhost:8080/"
        }
      },
      "outputs": [
        {
          "output_type": "execute_result",
          "data": {
            "text/plain": [
              "{1: 'Apple', 2: 'BALL', 3: [4, 5, 6]}"
            ]
          },
          "metadata": {},
          "execution_count": 59
        }
      ],
      "source": [
        "dict2 = {1:\"Apple\", 2:\"BALL\", 3: [4,5,6]}\n",
        "\n",
        "dict2"
      ]
    },
    {
      "cell_type": "code",
      "execution_count": 60,
      "metadata": {
        "id": "J4Oa8fh00gkg",
        "outputId": "751f7402-a00c-441e-833c-56a599a5d7bb",
        "colab": {
          "base_uri": "https://localhost:8080/"
        }
      },
      "outputs": [
        {
          "output_type": "execute_result",
          "data": {
            "text/plain": [
              "{1: 'Apple', 2: 'BALL', 3: 'cat', 5: (6, 6, 6)}"
            ]
          },
          "metadata": {},
          "execution_count": 60
        }
      ],
      "source": [
        "dict3 = {1:\"Apple\", 2:\"BALL\", 3: \"cat\", 5: (6,6,6)}\n",
        "\n",
        "dict3"
      ]
    },
    {
      "cell_type": "code",
      "execution_count": 61,
      "metadata": {
        "id": "3E3JsYHI0gkh",
        "outputId": "c8b7c8f6-25a1-4f12-c637-9ab597af76ac",
        "colab": {
          "base_uri": "https://localhost:8080/"
        }
      },
      "outputs": [
        {
          "output_type": "execute_result",
          "data": {
            "text/plain": [
              "{'Hai': 'Apple', 2: 'BALL', 1.5: 'cat'}"
            ]
          },
          "metadata": {},
          "execution_count": 61
        }
      ],
      "source": [
        "dict_d = {\"Hai\":\"Apple\", 2:\"BALL\", 1.5: \"cat\"}\n",
        "\n",
        "dict_d"
      ]
    },
    {
      "cell_type": "markdown",
      "metadata": {
        "id": "htPNBcsY0gkh"
      },
      "source": [
        "## Accessing Elements from Dictionary\n",
        "\n"
      ]
    },
    {
      "cell_type": "code",
      "execution_count": 62,
      "metadata": {
        "id": "TFl1hHbG0gkh",
        "outputId": "21c7058e-bb4b-4361-fec8-20c1b9e11b8b",
        "colab": {
          "base_uri": "https://localhost:8080/"
        }
      },
      "outputs": [
        {
          "output_type": "execute_result",
          "data": {
            "text/plain": [
              "{1: 'Apple', 2: 'BALL', 3: 'cat'}"
            ]
          },
          "metadata": {},
          "execution_count": 62
        }
      ],
      "source": [
        "dict1"
      ]
    },
    {
      "cell_type": "code",
      "execution_count": 63,
      "metadata": {
        "id": "X0FXoj7R0gki",
        "outputId": "89615098-4f89-4455-a573-507245404131",
        "colab": {
          "base_uri": "https://localhost:8080/",
          "height": 36
        }
      },
      "outputs": [
        {
          "output_type": "execute_result",
          "data": {
            "text/plain": [
              "'Apple'"
            ],
            "application/vnd.google.colaboratory.intrinsic+json": {
              "type": "string"
            }
          },
          "metadata": {},
          "execution_count": 63
        }
      ],
      "source": [
        "dict1[1]"
      ]
    },
    {
      "cell_type": "code",
      "execution_count": 64,
      "metadata": {
        "id": "RSuQhGqR0gki",
        "outputId": "e6696526-f89b-4dad-dc91-e600252500d3",
        "colab": {
          "base_uri": "https://localhost:8080/"
        }
      },
      "outputs": [
        {
          "output_type": "execute_result",
          "data": {
            "text/plain": [
              "{'Hai': 'Apple', 2: 'BALL', 1.5: 'cat'}"
            ]
          },
          "metadata": {},
          "execution_count": 64
        }
      ],
      "source": [
        "dict_d"
      ]
    },
    {
      "cell_type": "code",
      "execution_count": 65,
      "metadata": {
        "id": "s7b3UNBv0gki",
        "outputId": "d2b763f0-6f20-4a85-8b03-50077a4f5239",
        "colab": {
          "base_uri": "https://localhost:8080/",
          "height": 36
        }
      },
      "outputs": [
        {
          "output_type": "execute_result",
          "data": {
            "text/plain": [
              "'cat'"
            ],
            "application/vnd.google.colaboratory.intrinsic+json": {
              "type": "string"
            }
          },
          "metadata": {},
          "execution_count": 65
        }
      ],
      "source": [
        "dict_d[1.5]"
      ]
    },
    {
      "cell_type": "code",
      "execution_count": 66,
      "metadata": {
        "id": "QPVftKlX0gki",
        "outputId": "2bf22aa5-c383-43fc-f332-8f0ab869b392",
        "colab": {
          "base_uri": "https://localhost:8080/",
          "height": 36
        }
      },
      "outputs": [
        {
          "output_type": "execute_result",
          "data": {
            "text/plain": [
              "'cat'"
            ],
            "application/vnd.google.colaboratory.intrinsic+json": {
              "type": "string"
            }
          },
          "metadata": {},
          "execution_count": 66
        }
      ],
      "source": [
        "dict_d.get(1.5)"
      ]
    },
    {
      "cell_type": "code",
      "execution_count": 67,
      "metadata": {
        "id": "DUR8u88J0gkj"
      },
      "outputs": [],
      "source": [
        "dict_d.get(4)"
      ]
    },
    {
      "cell_type": "code",
      "execution_count": 68,
      "metadata": {
        "id": "h-52974H0gkl"
      },
      "outputs": [],
      "source": [
        "#dict_d[4]"
      ]
    },
    {
      "cell_type": "markdown",
      "metadata": {
        "id": "C_e16dPr0gkm"
      },
      "source": [
        "## Changing and Adding Dictionary elements\n",
        "\n"
      ]
    },
    {
      "cell_type": "code",
      "execution_count": 69,
      "metadata": {
        "id": "hjmHEz7m0gkm",
        "outputId": "a7e28711-2da2-4caf-e2ce-a174beab3b91",
        "colab": {
          "base_uri": "https://localhost:8080/"
        }
      },
      "outputs": [
        {
          "output_type": "execute_result",
          "data": {
            "text/plain": [
              "{1: 'Apple', 2: 'BALL', 3: 'cat'}"
            ]
          },
          "metadata": {},
          "execution_count": 69
        }
      ],
      "source": [
        "dict1"
      ]
    },
    {
      "cell_type": "code",
      "execution_count": 70,
      "metadata": {
        "id": "TMJ3cZzd0gkn",
        "outputId": "9efa24a6-6b0a-498e-b7ee-64cbf8887034",
        "colab": {
          "base_uri": "https://localhost:8080/"
        }
      },
      "outputs": [
        {
          "output_type": "execute_result",
          "data": {
            "text/plain": [
              "{1: 'Apple', 2: 'BALL', 3: 'Ajantha'}"
            ]
          },
          "metadata": {},
          "execution_count": 70
        }
      ],
      "source": [
        "dict1[3]=\"Ajantha\"\n",
        "\n",
        "dict1"
      ]
    },
    {
      "cell_type": "code",
      "execution_count": 71,
      "metadata": {
        "id": "Tc5SgyT30gkn",
        "outputId": "69d77f30-4315-4f81-dde2-d85d084a9a59",
        "colab": {
          "base_uri": "https://localhost:8080/"
        }
      },
      "outputs": [
        {
          "output_type": "execute_result",
          "data": {
            "text/plain": [
              "{1: 'Apple', 2: 'BALL', 3: 'Ajantha', 5: 'Welcome'}"
            ]
          },
          "metadata": {},
          "execution_count": 71
        }
      ],
      "source": [
        "dict1[5]=\"Welcome\"\n",
        "\n",
        "dict1"
      ]
    },
    {
      "cell_type": "code",
      "execution_count": 72,
      "metadata": {
        "id": "Abxsb7MR0gkn"
      },
      "outputs": [],
      "source": [
        "dict1[\"hiii\"]=\"Hello\""
      ]
    },
    {
      "cell_type": "code",
      "execution_count": 73,
      "metadata": {
        "id": "XyYEG1290gko",
        "outputId": "edbf7082-af04-4226-dc5f-977092d68580",
        "colab": {
          "base_uri": "https://localhost:8080/"
        }
      },
      "outputs": [
        {
          "output_type": "execute_result",
          "data": {
            "text/plain": [
              "{1: 'Apple', 2: 'BALL', 3: 'Ajantha', 5: 'Welcome', 'hiii': 'Hello'}"
            ]
          },
          "metadata": {},
          "execution_count": 73
        }
      ],
      "source": [
        "dict1"
      ]
    },
    {
      "cell_type": "code",
      "execution_count": 74,
      "metadata": {
        "id": "9ZPx15o60gko",
        "outputId": "c03a4c32-49bf-414e-ca6f-7833d0e5a0d2",
        "colab": {
          "base_uri": "https://localhost:8080/"
        }
      },
      "outputs": [
        {
          "output_type": "execute_result",
          "data": {
            "text/plain": [
              "{1: 'Apple',\n",
              " 2: 'BALL',\n",
              " 3: 'Ajantha',\n",
              " 5: 'Welcome',\n",
              " 'hiii': 'Hello',\n",
              " 6.7: 77777}"
            ]
          },
          "metadata": {},
          "execution_count": 74
        }
      ],
      "source": [
        "dict1[6.7]=77777\n",
        "dict1"
      ]
    },
    {
      "cell_type": "markdown",
      "metadata": {
        "id": "Hm02ajje0gko"
      },
      "source": [
        "## Removing elements from Dictionary\n",
        "\n"
      ]
    },
    {
      "cell_type": "code",
      "execution_count": 75,
      "metadata": {
        "id": "H4kc59KR0gko",
        "outputId": "73e957ac-d656-4121-deda-5278667582eb",
        "colab": {
          "base_uri": "https://localhost:8080/"
        }
      },
      "outputs": [
        {
          "output_type": "execute_result",
          "data": {
            "text/plain": [
              "{1: 'Apple',\n",
              " 2: 'BALL',\n",
              " 3: 'Ajantha',\n",
              " 5: 'Welcome',\n",
              " 'hiii': 'Hello',\n",
              " 6.7: 77777}"
            ]
          },
          "metadata": {},
          "execution_count": 75
        }
      ],
      "source": [
        "dict1"
      ]
    },
    {
      "cell_type": "code",
      "execution_count": 76,
      "metadata": {
        "id": "SzCuz0dR0gko",
        "outputId": "3236d548-57ba-46be-e1a5-69805d5eb531",
        "colab": {
          "base_uri": "https://localhost:8080/",
          "height": 36
        }
      },
      "outputs": [
        {
          "output_type": "execute_result",
          "data": {
            "text/plain": [
              "'Hello'"
            ],
            "application/vnd.google.colaboratory.intrinsic+json": {
              "type": "string"
            }
          },
          "metadata": {},
          "execution_count": 76
        }
      ],
      "source": [
        "dict1.pop(\"hiii\")"
      ]
    },
    {
      "cell_type": "code",
      "execution_count": 77,
      "metadata": {
        "id": "rWCkktlj0gkp",
        "outputId": "748be89a-6949-49e6-bdf8-dd4cb3a71bbb",
        "colab": {
          "base_uri": "https://localhost:8080/"
        }
      },
      "outputs": [
        {
          "output_type": "execute_result",
          "data": {
            "text/plain": [
              "{1: 'Apple', 2: 'BALL', 3: 'Ajantha', 5: 'Welcome', 6.7: 77777}"
            ]
          },
          "metadata": {},
          "execution_count": 77
        }
      ],
      "source": [
        "dict1"
      ]
    },
    {
      "cell_type": "code",
      "execution_count": 78,
      "metadata": {
        "id": "mJz3ioc90gkp",
        "outputId": "fd62b8a1-68ec-43ce-e087-8210d86830ff",
        "colab": {
          "base_uri": "https://localhost:8080/"
        }
      },
      "outputs": [
        {
          "output_type": "execute_result",
          "data": {
            "text/plain": [
              "(6.7, 77777)"
            ]
          },
          "metadata": {},
          "execution_count": 78
        }
      ],
      "source": [
        "dict1.popitem()"
      ]
    },
    {
      "cell_type": "code",
      "execution_count": 79,
      "metadata": {
        "id": "R6O4Hcjt0gkp",
        "outputId": "0193d24d-2720-4cf2-f2c7-79e283ad15f9",
        "colab": {
          "base_uri": "https://localhost:8080/"
        }
      },
      "outputs": [
        {
          "output_type": "execute_result",
          "data": {
            "text/plain": [
              "{1: 'Apple', 2: 'BALL', 3: 'Ajantha', 5: 'Welcome'}"
            ]
          },
          "metadata": {},
          "execution_count": 79
        }
      ],
      "source": [
        "dict1"
      ]
    },
    {
      "cell_type": "code",
      "execution_count": 80,
      "metadata": {
        "id": "BwkhFE0l0gkp"
      },
      "outputs": [],
      "source": [
        "dict1.clear()"
      ]
    },
    {
      "cell_type": "code",
      "execution_count": 81,
      "metadata": {
        "id": "GY6cBf9l0gkp",
        "outputId": "9119a181-eb0c-4abd-c0be-861b0e408a0d",
        "colab": {
          "base_uri": "https://localhost:8080/"
        }
      },
      "outputs": [
        {
          "output_type": "execute_result",
          "data": {
            "text/plain": [
              "{}"
            ]
          },
          "metadata": {},
          "execution_count": 81
        }
      ],
      "source": [
        "dict1"
      ]
    },
    {
      "cell_type": "code",
      "execution_count": 82,
      "metadata": {
        "id": "1zdE2bD10gkq"
      },
      "outputs": [],
      "source": [
        "del dict1"
      ]
    },
    {
      "cell_type": "code",
      "execution_count": 83,
      "metadata": {
        "id": "qB2hqx850gkq"
      },
      "outputs": [],
      "source": [
        "#dict1 dict deleted"
      ]
    },
    {
      "cell_type": "markdown",
      "metadata": {
        "id": "H4ODl2cB0gkq"
      },
      "source": [
        "## Dictionary Built-in Dictionary Functions\n",
        "\n",
        "Built-in functions like **`all()`**, **`any()`**, **`len()`**, **`cmp()`**, **`sorted()`**, **`str()`**, **`typ()`**, etc. are commonly used with dictionaries to perform different tasks."
      ]
    },
    {
      "cell_type": "markdown",
      "metadata": {
        "id": "stUYCB560gkr"
      },
      "source": [
        "### `all(dict)` - The `all()` function returns True when all elements in the given iterable are true. If not, it returns False.\n",
        "\n",
        "In case of dictionaries, if all keys (not values) are true or the dictionary is empty, **`all()`** returns **`True`**. Else, it returns **`false`** for all other cases."
      ]
    },
    {
      "cell_type": "code",
      "execution_count": 84,
      "metadata": {
        "id": "k-sJjkcZ0gks",
        "outputId": "a5beb55a-aae0-411a-d8c6-9d59f78b83db",
        "colab": {
          "base_uri": "https://localhost:8080/"
        }
      },
      "outputs": [
        {
          "output_type": "execute_result",
          "data": {
            "text/plain": [
              "False"
            ]
          },
          "metadata": {},
          "execution_count": 84
        }
      ],
      "source": [
        "squ = {0:0, 1:1, 3:9, 5:25, 7:49}\n",
        "\n",
        "all(squ) #0:0)"
      ]
    },
    {
      "cell_type": "markdown",
      "metadata": {
        "id": "vf8HG_h10gks"
      },
      "source": [
        "### `any(dict)` - The `any()` function returns True if any element of an iterable is True. If not, any() returns False.\n",
        "\n",
        "In the case of dictionaries, if all keys (not values) are false or the dictionary is empty, **`any()`** returns **`False`**. If at least one key is true, **`any()`** returns **`True`**."
      ]
    },
    {
      "cell_type": "code",
      "execution_count": 85,
      "metadata": {
        "id": "JhZWsxx40gks",
        "outputId": "b0b87a3c-2cc8-4815-daf6-fae0bbd6ef57",
        "colab": {
          "base_uri": "https://localhost:8080/"
        }
      },
      "outputs": [
        {
          "output_type": "execute_result",
          "data": {
            "text/plain": [
              "True"
            ]
          },
          "metadata": {},
          "execution_count": 85
        }
      ],
      "source": [
        "any(squ)"
      ]
    },
    {
      "cell_type": "markdown",
      "metadata": {
        "id": "xw9OFT-g0gks"
      },
      "source": [
        "### **`len(dict)`** - The `len()` function gives the total length of the dictionary. This would be equal to the number of items in the dictionary."
      ]
    },
    {
      "cell_type": "code",
      "execution_count": 86,
      "metadata": {
        "id": "xPAIGzoI0gkt",
        "outputId": "88877af6-60c4-4420-e14a-1ce99313bf57",
        "colab": {
          "base_uri": "https://localhost:8080/"
        }
      },
      "outputs": [
        {
          "output_type": "execute_result",
          "data": {
            "text/plain": [
              "5"
            ]
          },
          "metadata": {},
          "execution_count": 86
        }
      ],
      "source": [
        "len(squ)"
      ]
    },
    {
      "cell_type": "markdown",
      "metadata": {
        "id": "zbmowqiZ0gkt"
      },
      "source": [
        "### **`sorted(dict)`** - The `sorted()` function sorts the elements of a given iterable in a specific order (either **ascending** or **descending**) and returns the sorted iterable as a list."
      ]
    },
    {
      "cell_type": "code",
      "execution_count": 87,
      "metadata": {
        "id": "xQKJSpgh0gkt",
        "outputId": "d9cf4eed-9dfe-44aa-c04c-21ffb483afba",
        "colab": {
          "base_uri": "https://localhost:8080/"
        }
      },
      "outputs": [
        {
          "output_type": "execute_result",
          "data": {
            "text/plain": [
              "[0, 1, 3, 5, 7]"
            ]
          },
          "metadata": {},
          "execution_count": 87
        }
      ],
      "source": [
        "sorted(squ)"
      ]
    },
    {
      "cell_type": "markdown",
      "metadata": {
        "id": "ksAyhTL40gkt"
      },
      "source": [
        "### **`str(dict)`** - The `str()` function produces a printable string representation of a dictionary."
      ]
    },
    {
      "cell_type": "code",
      "execution_count": 88,
      "metadata": {
        "id": "1shnjtvO0gkt",
        "outputId": "ceddbc0e-bc1f-444a-9fe9-41ecec839c27",
        "colab": {
          "base_uri": "https://localhost:8080/",
          "height": 36
        }
      },
      "outputs": [
        {
          "output_type": "execute_result",
          "data": {
            "text/plain": [
              "'{0: 0, 1: 1, 3: 9, 5: 25, 7: 49}'"
            ],
            "application/vnd.google.colaboratory.intrinsic+json": {
              "type": "string"
            }
          },
          "metadata": {},
          "execution_count": 88
        }
      ],
      "source": [
        "str(squ)"
      ]
    },
    {
      "cell_type": "markdown",
      "metadata": {
        "id": "_9sLcoSg0gkt"
      },
      "source": [
        "### **`type()`** - The `type()` function returns the type of the passed variable. If passed variable is dictionary then it would return a dictionary type."
      ]
    },
    {
      "cell_type": "code",
      "execution_count": 89,
      "metadata": {
        "id": "1tCO5pPk0gku",
        "outputId": "3361ea56-9b1d-4f8a-aeeb-f518c605d36d",
        "colab": {
          "base_uri": "https://localhost:8080/"
        }
      },
      "outputs": [
        {
          "output_type": "execute_result",
          "data": {
            "text/plain": [
              "dict"
            ]
          },
          "metadata": {},
          "execution_count": 89
        }
      ],
      "source": [
        "type(squ)"
      ]
    },
    {
      "cell_type": "code",
      "execution_count": 90,
      "metadata": {
        "id": "fPa088-o0gku"
      },
      "outputs": [],
      "source": [
        "str1 = str(squ)"
      ]
    },
    {
      "cell_type": "code",
      "execution_count": 91,
      "metadata": {
        "id": "c13uQl760gku",
        "outputId": "cdfe4a86-bff5-4996-b9ea-17222c64fb3e",
        "colab": {
          "base_uri": "https://localhost:8080/"
        }
      },
      "outputs": [
        {
          "output_type": "execute_result",
          "data": {
            "text/plain": [
              "str"
            ]
          },
          "metadata": {},
          "execution_count": 91
        }
      ],
      "source": [
        "type(str1)"
      ]
    },
    {
      "cell_type": "markdown",
      "metadata": {
        "id": "jHwpKGlb0gku"
      },
      "source": [
        "## Python Dictionary Methods\n",
        "\n",
        "Methods that are available with a dictionary are tabulated below. Some of them have already been used in the above examples.\n",
        "\n"
      ]
    },
    {
      "cell_type": "markdown",
      "metadata": {
        "id": "POgb8zM80gku"
      },
      "source": [
        "### **`clear()`** - The method `clear()` removes all items from the dictionary."
      ]
    },
    {
      "cell_type": "markdown",
      "metadata": {
        "id": "J3NTFUqS0gkv"
      },
      "source": [
        "### **`copy()`** - The method `copy()` returns a shallow copy of the dictionary."
      ]
    },
    {
      "cell_type": "markdown",
      "metadata": {
        "id": "KdfIlZXS0gkv"
      },
      "source": [
        "### **`itmes()`** - The method `items()` returns a list of dict's (key, value) tuple pairs."
      ]
    },
    {
      "cell_type": "markdown",
      "metadata": {
        "id": "GTbELZli0gkv"
      },
      "source": [
        "### **`keys()`** - The method `keys()` returns a list of all the available keys in the dictionary."
      ]
    },
    {
      "cell_type": "markdown",
      "metadata": {
        "id": "sOFJVusH0gkv"
      },
      "source": [
        "### **`fromkeys()`** - The method `fromkeys()` creates a new dictionary with keys from seq and values set to value.\n",
        "\n",
        "**Syntax:**\n",
        "\n",
        "```python \n",
        "dict.fromkeys(seq[, value])\n",
        "```"
      ]
    },
    {
      "cell_type": "code",
      "execution_count": 92,
      "metadata": {
        "id": "uE9Uurlh0gkv",
        "outputId": "66ac4dc5-3b99-45e4-b544-cc9a04bd9121",
        "colab": {
          "base_uri": "https://localhost:8080/"
        }
      },
      "outputs": [
        {
          "output_type": "execute_result",
          "data": {
            "text/plain": [
              "{0: 0, 1: 1, 3: 9, 5: 25, 7: 49}"
            ]
          },
          "metadata": {},
          "execution_count": 92
        }
      ],
      "source": [
        "squ"
      ]
    },
    {
      "cell_type": "code",
      "execution_count": 93,
      "metadata": {
        "id": "N7C0D7y40gkv",
        "outputId": "a2b96fe7-9bae-499c-9156-e6ffaa9c8f24",
        "colab": {
          "base_uri": "https://localhost:8080/"
        }
      },
      "outputs": [
        {
          "output_type": "stream",
          "name": "stdout",
          "text": [
            "{'Aja': None, 'DEV': None, 'HI': None}\n",
            "{'Aja': 50, 'DEV': 50, 'HI': 50}\n"
          ]
        }
      ],
      "source": [
        "seq = (\"Aja\", \"DEV\", \"HI\")\n",
        "my_dict = dict.fromkeys(seq)\n",
        "# \"Aja\": None, \"DEV\": None, \"HI\": None\n",
        "print(str(my_dict))\n",
        "my_dict1 = dict.fromkeys(seq,50)\n",
        "print(str(my_dict1))"
      ]
    },
    {
      "cell_type": "markdown",
      "metadata": {
        "id": "QGjv_Q_Y0gkw"
      },
      "source": [
        "### **`setdefault()`** - The method `setdefault()` is similar to `get` but will set `dict[key] = default` if key is not already in dict.\n",
        "\n",
        "**Syntax:**\n",
        "\n",
        "```python\n",
        "dict.setdefault(key, default = None)\n",
        "```\n",
        "\n",
        "* key −> This is the key to be searched. \n",
        "* default −> This is the Value to be returned in case key is not found. "
      ]
    },
    {
      "cell_type": "markdown",
      "metadata": {
        "id": "Y2NPsJZv0gkw"
      },
      "source": [
        "### **`update()`** - The method `update()` adds dictionary dict2's key-values pairs in to dict. This function does not return anything.\n",
        "\n",
        "**Syntax:**\n",
        "\n",
        "```python\n",
        "dict.update(dict2)\n",
        "```"
      ]
    },
    {
      "cell_type": "code",
      "source": [
        "dict.update(dict2)\n",
        "print(dict)"
      ],
      "metadata": {
        "colab": {
          "base_uri": "https://localhost:8080/"
        },
        "id": "nhCrTeZ8AJ3v",
        "outputId": "0eee820f-8d96-4ce4-a9c5-1a6a9a9902dc"
      },
      "execution_count": 96,
      "outputs": [
        {
          "output_type": "stream",
          "name": "stdout",
          "text": [
            "<class 'dict'>\n"
          ]
        }
      ]
    },
    {
      "cell_type": "markdown",
      "metadata": {
        "id": "IWFeVexP0gkw"
      },
      "source": [
        "### **`value()`** - The method `values()` returns a list of all the values available in a given dictionary."
      ]
    },
    {
      "cell_type": "code",
      "source": [
        "dict1={'Aja': 50, 'DEV': 50, 'HI': 50}\n"
      ],
      "metadata": {
        "id": "8vvT6FG9BIq6"
      },
      "execution_count": 101,
      "outputs": []
    },
    {
      "cell_type": "code",
      "source": [
        "dict1.values()"
      ],
      "metadata": {
        "colab": {
          "base_uri": "https://localhost:8080/"
        },
        "id": "Qsep7A5pAUoU",
        "outputId": "e3baf898-3469-4b12-d8c9-3801bdd4125b"
      },
      "execution_count": 102,
      "outputs": [
        {
          "output_type": "execute_result",
          "data": {
            "text/plain": [
              "dict_values([50, 50, 50])"
            ]
          },
          "metadata": {},
          "execution_count": 102
        }
      ]
    }
  ],
  "metadata": {
    "hide_input": false,
    "kernelspec": {
      "display_name": "Python 3 (ipykernel)",
      "language": "python",
      "name": "python3"
    },
    "language_info": {
      "codemirror_mode": {
        "name": "ipython",
        "version": 3
      },
      "file_extension": ".py",
      "mimetype": "text/x-python",
      "name": "python",
      "nbconvert_exporter": "python",
      "pygments_lexer": "ipython3",
      "version": "3.9.7"
    },
    "toc": {
      "base_numbering": 1,
      "nav_menu": {},
      "number_sections": true,
      "sideBar": true,
      "skip_h1_title": false,
      "title_cell": "Table of Contents",
      "title_sidebar": "Contents",
      "toc_cell": false,
      "toc_position": {},
      "toc_section_display": true,
      "toc_window_display": false
    },
    "varInspector": {
      "cols": {
        "lenName": 16,
        "lenType": 16,
        "lenVar": 40
      },
      "kernels_config": {
        "python": {
          "delete_cmd_postfix": "",
          "delete_cmd_prefix": "del ",
          "library": "var_list.py",
          "varRefreshCmd": "print(var_dic_list())"
        },
        "r": {
          "delete_cmd_postfix": ") ",
          "delete_cmd_prefix": "rm(",
          "library": "var_list.r",
          "varRefreshCmd": "cat(var_dic_list()) "
        }
      },
      "types_to_exclude": [
        "module",
        "function",
        "builtin_function_or_method",
        "instance",
        "_Feature"
      ],
      "window_display": false
    },
    "colab": {
      "provenance": [],
      "include_colab_link": true
    }
  },
  "nbformat": 4,
  "nbformat_minor": 0
}