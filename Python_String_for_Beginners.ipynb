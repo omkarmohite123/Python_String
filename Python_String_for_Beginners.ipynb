{
  "cells": [
    {
      "cell_type": "markdown",
      "metadata": {
        "id": "view-in-github",
        "colab_type": "text"
      },
      "source": [
        "<a href=\"https://colab.research.google.com/github/omkarmohite123/Python_String-List-Tuple-Dictionary_for_beginners/blob/main/Python_String_for_Beginners.ipynb\" target=\"_parent\"><img src=\"https://colab.research.google.com/assets/colab-badge.svg\" alt=\"Open In Colab\"/></a>"
      ]
    },
    {
      "cell_type": "markdown",
      "metadata": {
        "id": "gIXRrifE0tww"
      },
      "source": [
        "# Python Strings\n"
      ]
    },
    {
      "cell_type": "code",
      "execution_count": null,
      "metadata": {
        "id": "E2qVvjLD0twy"
      },
      "outputs": [],
      "source": [
        "# ASCII\n",
        "\n",
        "# UNICODE"
      ]
    },
    {
      "cell_type": "markdown",
      "metadata": {
        "id": "Yhsw5Kv40tw0"
      },
      "source": [
        "## What is String in Python?\n",
        "\n"
      ]
    },
    {
      "cell_type": "markdown",
      "metadata": {
        "id": "U8OuzJfW0tw0"
      },
      "source": [
        "\n",
        "\n",
        "| Data types     | Type          |         |\n",
        "| :------------: | :-----------: |:------: |\n",
        "| **String**     | **immutable** |  |"
      ]
    },
    {
      "cell_type": "markdown",
      "metadata": {
        "id": "GRc3Gl-G0tw0"
      },
      "source": [
        "\n",
        "\n",
        "<div>\n",
        "<img src=\"img/s0.png\" width=\"600\"/>\n",
        "</div>"
      ]
    },
    {
      "cell_type": "markdown",
      "metadata": {
        "id": "LCZSMcWX0tw0"
      },
      "source": [
        "## How to create a string in Python?\n"
      ]
    },
    {
      "cell_type": "code",
      "execution_count": null,
      "metadata": {
        "id": "d_muVqFS0tw1",
        "outputId": "f9ea7630-1943-44f5-da27-f10727265f2d",
        "colab": {
          "base_uri": "https://localhost:8080/"
        }
      },
      "outputs": [
        {
          "output_type": "stream",
          "name": "stdout",
          "text": [
            "999\n"
          ]
        }
      ],
      "source": [
        "print(999)"
      ]
    },
    {
      "cell_type": "code",
      "execution_count": null,
      "metadata": {
        "id": "rqcGXeSF0tw1",
        "outputId": "648daf6c-126f-4219-bba7-8ca0ae080165",
        "colab": {
          "base_uri": "https://localhost:8080/"
        }
      },
      "outputs": [
        {
          "output_type": "stream",
          "name": "stdout",
          "text": [
            "<class 'int'>\n"
          ]
        }
      ],
      "source": [
        "print(type(999)) #999 in integer"
      ]
    },
    {
      "cell_type": "code",
      "execution_count": null,
      "metadata": {
        "id": "U43kDRZ80tw2",
        "outputId": "0cac84e3-b2dc-473b-ea83-30028bca7164",
        "colab": {
          "base_uri": "https://localhost:8080/"
        }
      },
      "outputs": [
        {
          "output_type": "stream",
          "name": "stdout",
          "text": [
            "<class 'str'>\n"
          ]
        }
      ],
      "source": [
        "print(type(\"999\")) #999 in string(\" \")"
      ]
    },
    {
      "cell_type": "code",
      "execution_count": null,
      "metadata": {
        "id": "ah-TaZWO0tw2",
        "outputId": "71222979-5f2f-41f9-b5c3-884058e77a07",
        "colab": {
          "base_uri": "https://localhost:8080/",
          "height": 36
        }
      },
      "outputs": [
        {
          "output_type": "execute_result",
          "data": {
            "text/plain": [
              "'Hello'"
            ],
            "application/vnd.google.colaboratory.intrinsic+json": {
              "type": "string"
            }
          },
          "metadata": {},
          "execution_count": 188
        }
      ],
      "source": [
        "my_str = 'Hello'\n",
        "\n",
        "my_str"
      ]
    },
    {
      "cell_type": "code",
      "execution_count": null,
      "metadata": {
        "id": "1Aza2rsx0tw2",
        "outputId": "7557e394-96b1-4d14-eeb2-b9c0b53dc6be",
        "colab": {
          "base_uri": "https://localhost:8080/",
          "height": 36
        }
      },
      "outputs": [
        {
          "output_type": "execute_result",
          "data": {
            "text/plain": [
              "'Hello'"
            ],
            "application/vnd.google.colaboratory.intrinsic+json": {
              "type": "string"
            }
          },
          "metadata": {},
          "execution_count": 189
        }
      ],
      "source": [
        "my_str1 = \"Hello\"\n",
        "\n",
        "my_str1"
      ]
    },
    {
      "cell_type": "code",
      "execution_count": null,
      "metadata": {
        "id": "y2KpQUaw0tw2",
        "outputId": "ae051361-e29a-43c9-b844-c418a3714b24",
        "colab": {
          "base_uri": "https://localhost:8080/",
          "height": 36
        }
      },
      "outputs": [
        {
          "output_type": "execute_result",
          "data": {
            "text/plain": [
              "'Hi hello'"
            ],
            "application/vnd.google.colaboratory.intrinsic+json": {
              "type": "string"
            }
          },
          "metadata": {},
          "execution_count": 190
        }
      ],
      "source": [
        "my_str2=\"\"\"Hi hello\"\"\"\n",
        "my_str2"
      ]
    },
    {
      "cell_type": "code",
      "execution_count": null,
      "metadata": {
        "id": "IF9HMk6F0tw3",
        "outputId": "4733cf4b-cf1e-4608-d7e2-b93920005049",
        "colab": {
          "base_uri": "https://localhost:8080/",
          "height": 36
        }
      },
      "outputs": [
        {
          "output_type": "execute_result",
          "data": {
            "text/plain": [
              "'How r u all'"
            ],
            "application/vnd.google.colaboratory.intrinsic+json": {
              "type": "string"
            }
          },
          "metadata": {},
          "execution_count": 191
        }
      ],
      "source": [
        "my_str3='''How r u all'''\n",
        "\n",
        "my_str3"
      ]
    },
    {
      "cell_type": "markdown",
      "source": [
        "#Doctstring(\"\"\" \"\"\")"
      ],
      "metadata": {
        "id": "luRC_VMP2oXc"
      }
    },
    {
      "cell_type": "code",
      "execution_count": null,
      "metadata": {
        "id": "XEmJYTJj0tw3",
        "outputId": "98255496-3404-4a08-9dcd-7abaf62b7bce",
        "colab": {
          "base_uri": "https://localhost:8080/",
          "height": 36
        }
      },
      "outputs": [
        {
          "output_type": "execute_result",
          "data": {
            "text/plain": [
              "'welcome to the\\nsession\\nwe are in the session of \\nString\\nhope u all enjoing\\nlearning by doing'"
            ],
            "application/vnd.google.colaboratory.intrinsic+json": {
              "type": "string"
            }
          },
          "metadata": {},
          "execution_count": 192
        }
      ],
      "source": [
        "\n",
        "\n",
        "\n",
        "my_doc = \"\"\"welcome to the\n",
        "session\n",
        "we are in the session of \n",
        "String\n",
        "hope u all enjoing\n",
        "learning by doing\"\"\"\n",
        "\n",
        "my_doc "
      ]
    },
    {
      "cell_type": "code",
      "execution_count": null,
      "metadata": {
        "id": "rnmorP2c0tw3",
        "outputId": "17d94aed-6cfd-4ede-f4fb-f9df7b06c76c",
        "colab": {
          "base_uri": "https://localhost:8080/"
        }
      },
      "outputs": [
        {
          "output_type": "stream",
          "name": "stdout",
          "text": [
            "welcome to the\n",
            "session\n",
            "we are in the session of \n",
            "String\n",
            "hope u all enjoing\n",
            "learning by doing\n"
          ]
        }
      ],
      "source": [
        "print(my_doc)"
      ]
    },
    {
      "cell_type": "markdown",
      "source": [
        "#unpacking"
      ],
      "metadata": {
        "id": "LECkzBau2yHU"
      }
    },
    {
      "cell_type": "code",
      "execution_count": null,
      "metadata": {
        "id": "EnITEENS0tw3",
        "outputId": "92c822a2-046c-478f-80fa-05be1c0fac46",
        "colab": {
          "base_uri": "https://localhost:8080/"
        }
      },
      "outputs": [
        {
          "output_type": "stream",
          "name": "stdout",
          "text": [
            "P\n",
            "y\n",
            "t\n",
            "h\n",
            "o\n",
            "n\n"
          ]
        }
      ],
      "source": [
        "\n",
        "\n",
        "lang = \"Python\"\n",
        "a,b,c,d,e,f = lang\n",
        "\n",
        "print(a)\n",
        "print(b)\n",
        "print(c)\n",
        "print(d)\n",
        "print(e)\n",
        "print(f)\n"
      ]
    },
    {
      "cell_type": "markdown",
      "metadata": {
        "id": "OPJUT_5N0tw4"
      },
      "source": [
        "## How to access characters in a string?\n",
        "\n",
        "\n",
        "<div>\n",
        "<img src=\"img/s3.png\" width=\"300\"/>\n",
        "</div>"
      ]
    },
    {
      "cell_type": "code",
      "execution_count": null,
      "metadata": {
        "id": "2vE3HMuG0tw4",
        "outputId": "06b09735-1d85-4b53-b04f-8a143950e635",
        "colab": {
          "base_uri": "https://localhost:8080/",
          "height": 36
        }
      },
      "outputs": [
        {
          "output_type": "execute_result",
          "data": {
            "text/plain": [
              "'Python'"
            ],
            "application/vnd.google.colaboratory.intrinsic+json": {
              "type": "string"
            }
          },
          "metadata": {},
          "execution_count": 195
        }
      ],
      "source": [
        "lang"
      ]
    },
    {
      "cell_type": "code",
      "execution_count": null,
      "metadata": {
        "id": "Brz7gRri0tw4",
        "outputId": "50803390-965a-4f57-a78e-a6a30f4f9fa9",
        "colab": {
          "base_uri": "https://localhost:8080/",
          "height": 36
        }
      },
      "outputs": [
        {
          "output_type": "execute_result",
          "data": {
            "text/plain": [
              "'P'"
            ],
            "application/vnd.google.colaboratory.intrinsic+json": {
              "type": "string"
            }
          },
          "metadata": {},
          "execution_count": 196
        }
      ],
      "source": [
        "lang[0]"
      ]
    },
    {
      "cell_type": "code",
      "execution_count": null,
      "metadata": {
        "id": "KFWOdPR20tw4",
        "outputId": "888ecf97-3539-4cff-9473-ce423d0ca569",
        "colab": {
          "base_uri": "https://localhost:8080/",
          "height": 36
        }
      },
      "outputs": [
        {
          "output_type": "execute_result",
          "data": {
            "text/plain": [
              "'h'"
            ],
            "application/vnd.google.colaboratory.intrinsic+json": {
              "type": "string"
            }
          },
          "metadata": {},
          "execution_count": 197
        }
      ],
      "source": [
        "lang[-3]"
      ]
    },
    {
      "cell_type": "code",
      "execution_count": null,
      "metadata": {
        "id": "KEdmlMWv0tw5",
        "outputId": "8da202aa-3cf3-41bf-d02f-7146e67365be",
        "colab": {
          "base_uri": "https://localhost:8080/"
        }
      },
      "outputs": [
        {
          "output_type": "execute_result",
          "data": {
            "text/plain": [
              "6"
            ]
          },
          "metadata": {},
          "execution_count": 198
        }
      ],
      "source": [
        "len(lang)"
      ]
    },
    {
      "cell_type": "code",
      "execution_count": null,
      "metadata": {
        "id": "PZHD26qa0tw5",
        "outputId": "d601ef25-f625-4a4f-97a1-16af140ea89d",
        "colab": {
          "base_uri": "https://localhost:8080/"
        }
      },
      "outputs": [
        {
          "output_type": "stream",
          "name": "stdout",
          "text": [
            "9\n",
            "1\n",
            "9\n",
            "9\n"
          ]
        }
      ],
      "source": [
        "s='123456789'\n",
        "\n",
        "print(len(s))\n",
        "print(s[0])\n",
        "print(s[8])\n",
        "print(s[len(s)-1])"
      ]
    },
    {
      "cell_type": "code",
      "execution_count": null,
      "metadata": {
        "id": "Hr7e8Eao0tw5",
        "outputId": "9c133a54-d97a-4c59-ed07-2d71c719c12b",
        "colab": {
          "base_uri": "https://localhost:8080/"
        }
      },
      "outputs": [
        {
          "output_type": "stream",
          "name": "stdout",
          "text": [
            "-9\n",
            "5\n",
            "2\n",
            "9\n"
          ]
        }
      ],
      "source": [
        "print(-len(s))\n",
        "print(s[-5])\n",
        "print(s[-8])\n",
        "print(s[-1])"
      ]
    },
    {
      "cell_type": "code",
      "execution_count": null,
      "metadata": {
        "id": "5DblaEtE0tw5",
        "outputId": "cbe838f0-64ba-4937-8317-a86c38fdf30d",
        "colab": {
          "base_uri": "https://localhost:8080/"
        }
      },
      "outputs": [
        {
          "output_type": "stream",
          "name": "stdout",
          "text": [
            "1\n",
            "5\n",
            "2\n",
            "9\n"
          ]
        }
      ],
      "source": [
        "print(s[-len(s)])\n",
        "print(s[(-5)])\n",
        "print(s[(-8)])\n",
        "print(s[-1])"
      ]
    },
    {
      "cell_type": "code",
      "execution_count": null,
      "metadata": {
        "id": "Ll1aCuRN0tw5",
        "outputId": "b8deb2d1-7b85-4758-90f2-908bd3379309",
        "colab": {
          "base_uri": "https://localhost:8080/",
          "height": 36
        }
      },
      "outputs": [
        {
          "output_type": "execute_result",
          "data": {
            "text/plain": [
              "'123456789'"
            ],
            "application/vnd.google.colaboratory.intrinsic+json": {
              "type": "string"
            }
          },
          "metadata": {},
          "execution_count": 202
        }
      ],
      "source": [
        "s"
      ]
    },
    {
      "cell_type": "code",
      "execution_count": null,
      "metadata": {
        "id": "Xdu_9Lj20tw6",
        "outputId": "015cd145-6b45-4406-b249-16c1f752b2f4",
        "colab": {
          "base_uri": "https://localhost:8080/"
        }
      },
      "outputs": [
        {
          "output_type": "stream",
          "name": "stdout",
          "text": [
            "123\n",
            "456\n"
          ]
        }
      ],
      "source": [
        "print(s[0:3])\n",
        "print(s[3:6])"
      ]
    },
    {
      "cell_type": "code",
      "execution_count": null,
      "metadata": {
        "id": "jbcIeOum0tw6",
        "outputId": "bed56ddf-cf67-429e-f9f9-2559e0ec8eb6",
        "colab": {
          "base_uri": "https://localhost:8080/"
        }
      },
      "outputs": [
        {
          "output_type": "stream",
          "name": "stdout",
          "text": [
            "123\n",
            "789\n"
          ]
        }
      ],
      "source": [
        "print(s[:3])\n",
        "print(s[-3:])"
      ]
    },
    {
      "cell_type": "code",
      "execution_count": null,
      "metadata": {
        "id": "GYmicEs50tw6",
        "outputId": "1963a7c8-5dc0-435c-923b-21498f1b1c55",
        "colab": {
          "base_uri": "https://localhost:8080/",
          "height": 36
        }
      },
      "outputs": [
        {
          "output_type": "execute_result",
          "data": {
            "text/plain": [
              "'34567'"
            ],
            "application/vnd.google.colaboratory.intrinsic+json": {
              "type": "string"
            }
          },
          "metadata": {},
          "execution_count": 205
        }
      ],
      "source": [
        "s[2:7] #step =1 as default"
      ]
    },
    {
      "cell_type": "code",
      "execution_count": null,
      "metadata": {
        "id": "hh4Q-LcT0tw6",
        "outputId": "55825804-3f4f-4b5c-ec56-6e9825353c8b",
        "colab": {
          "base_uri": "https://localhost:8080/",
          "height": 36
        }
      },
      "outputs": [
        {
          "output_type": "execute_result",
          "data": {
            "text/plain": [
              "'357'"
            ],
            "application/vnd.google.colaboratory.intrinsic+json": {
              "type": "string"
            }
          },
          "metadata": {},
          "execution_count": 206
        }
      ],
      "source": [
        "s[2:7:2]"
      ]
    },
    {
      "cell_type": "code",
      "execution_count": null,
      "metadata": {
        "id": "anB6WYbf0tw6",
        "outputId": "555d7dc1-66c4-4499-8b09-e8c6df88fdbe",
        "colab": {
          "base_uri": "https://localhost:8080/",
          "height": 36
        }
      },
      "outputs": [
        {
          "output_type": "execute_result",
          "data": {
            "text/plain": [
              "''"
            ],
            "application/vnd.google.colaboratory.intrinsic+json": {
              "type": "string"
            }
          },
          "metadata": {},
          "execution_count": 207
        }
      ],
      "source": [
        "s[2:7:-1]"
      ]
    },
    {
      "cell_type": "markdown",
      "metadata": {
        "id": "QztkFo2r0tw6"
      },
      "source": [
        "## How to slice a string in Python?\n",
        "\n",
        "\n",
        "<div>\n",
        "<img src=\"img/s16.png\" width=\"300\"/>\n",
        "</div>\n",
        "\n",
        "**Syntax** of Slice Operator :\n",
        "\n",
        "```python\n",
        "str[start : stop : step ]\n",
        "```\n",
        "\n"
      ]
    },
    {
      "cell_type": "code",
      "execution_count": null,
      "metadata": {
        "id": "tjcQbQb-0tw7",
        "outputId": "1eb6cd17-2daa-469d-d55d-515b7a3888f1",
        "colab": {
          "base_uri": "https://localhost:8080/",
          "height": 36
        }
      },
      "outputs": [
        {
          "output_type": "execute_result",
          "data": {
            "text/plain": [
              "'Python'"
            ],
            "application/vnd.google.colaboratory.intrinsic+json": {
              "type": "string"
            }
          },
          "metadata": {},
          "execution_count": 208
        }
      ],
      "source": [
        "lang"
      ]
    },
    {
      "cell_type": "code",
      "execution_count": null,
      "metadata": {
        "id": "EprNZnBr0tw7",
        "outputId": "6293d107-ffce-4808-8108-c2c15bf1e9f5",
        "colab": {
          "base_uri": "https://localhost:8080/",
          "height": 36
        }
      },
      "outputs": [
        {
          "output_type": "execute_result",
          "data": {
            "text/plain": [
              "'Pytho'"
            ],
            "application/vnd.google.colaboratory.intrinsic+json": {
              "type": "string"
            }
          },
          "metadata": {},
          "execution_count": 209
        }
      ],
      "source": [
        "lang[0:5:1]"
      ]
    },
    {
      "cell_type": "markdown",
      "metadata": {
        "id": "xNc0Z5MG0tw7"
      },
      "source": [
        "## Breaking appart strings\n"
      ]
    },
    {
      "cell_type": "code",
      "execution_count": null,
      "metadata": {
        "id": "b9IusFVS0tw7"
      },
      "outputs": [],
      "source": [
        "#partition\n",
        "#split\n",
        "#join"
      ]
    },
    {
      "cell_type": "code",
      "execution_count": null,
      "metadata": {
        "id": "Os_Yua3Y0tw7",
        "outputId": "7902c967-72d8-4a44-d6c3-6473652707a2",
        "colab": {
          "base_uri": "https://localhost:8080/"
        }
      },
      "outputs": [
        {
          "output_type": "execute_result",
          "data": {
            "text/plain": [
              "['this', 'is', 'an', 'example', 'of', 'words', 'in', 'sequence']"
            ]
          },
          "metadata": {},
          "execution_count": 211
        }
      ],
      "source": [
        "\"this is an example of words in sequence\".split()"
      ]
    },
    {
      "cell_type": "code",
      "execution_count": null,
      "metadata": {
        "id": "6EOkJHrX0tw8",
        "outputId": "d7210910-d491-48b4-c40a-231b1a3b191a",
        "colab": {
          "base_uri": "https://localhost:8080/"
        }
      },
      "outputs": [
        {
          "output_type": "execute_result",
          "data": {
            "text/plain": [
              "['this', 'is', 'an', 'example', 'of', 'words', 'in', 'sequence']"
            ]
          },
          "metadata": {},
          "execution_count": 212
        }
      ],
      "source": [
        "text =\"this is an example of words in sequence\"\n",
        "text.split()"
      ]
    },
    {
      "cell_type": "code",
      "execution_count": null,
      "metadata": {
        "id": "DdMZbNC10tw8"
      },
      "outputs": [],
      "source": [
        "t1 = text.split()"
      ]
    },
    {
      "cell_type": "code",
      "execution_count": null,
      "metadata": {
        "id": "RI_yNOHB0tw8",
        "outputId": "8b473460-0193-41a3-8658-cac3db43ec19",
        "colab": {
          "base_uri": "https://localhost:8080/"
        }
      },
      "outputs": [
        {
          "output_type": "execute_result",
          "data": {
            "text/plain": [
              "list"
            ]
          },
          "metadata": {},
          "execution_count": 214
        }
      ],
      "source": [
        "type(t1)"
      ]
    },
    {
      "cell_type": "code",
      "execution_count": null,
      "metadata": {
        "id": "MJ-pdxlC0tw8",
        "outputId": "f4c75ced-67dc-45c6-e00a-1964973d57ab",
        "colab": {
          "base_uri": "https://localhost:8080/",
          "height": 36
        }
      },
      "outputs": [
        {
          "output_type": "execute_result",
          "data": {
            "text/plain": [
              "'this is an example of words in sequence'"
            ],
            "application/vnd.google.colaboratory.intrinsic+json": {
              "type": "string"
            }
          },
          "metadata": {},
          "execution_count": 215
        }
      ],
      "source": [
        "' '.join(t1)"
      ]
    },
    {
      "cell_type": "code",
      "execution_count": null,
      "metadata": {
        "id": "uo_ONqXd0tw8"
      },
      "outputs": [],
      "source": [
        "t2 = \"-\".join(t1)"
      ]
    },
    {
      "cell_type": "code",
      "execution_count": null,
      "metadata": {
        "id": "gHc1T1HB0tw8",
        "outputId": "ffdf00c4-6356-4326-cf8b-5c719b76ae23",
        "colab": {
          "base_uri": "https://localhost:8080/",
          "height": 36
        }
      },
      "outputs": [
        {
          "output_type": "execute_result",
          "data": {
            "text/plain": [
              "'this-is-an-example-of-words-in-sequence'"
            ],
            "application/vnd.google.colaboratory.intrinsic+json": {
              "type": "string"
            }
          },
          "metadata": {},
          "execution_count": 217
        }
      ],
      "source": [
        "t2"
      ]
    },
    {
      "cell_type": "code",
      "execution_count": null,
      "metadata": {
        "id": "G1CHnIhi0tw9",
        "outputId": "79b7da75-e7f1-414e-d674-7cc9656a7bb8",
        "colab": {
          "base_uri": "https://localhost:8080/"
        }
      },
      "outputs": [
        {
          "output_type": "execute_result",
          "data": {
            "text/plain": [
              "str"
            ]
          },
          "metadata": {},
          "execution_count": 218
        }
      ],
      "source": [
        "type(t2)"
      ]
    },
    {
      "cell_type": "code",
      "execution_count": null,
      "metadata": {
        "id": "vldp_mEm0tw9"
      },
      "outputs": [],
      "source": [
        "t3=''.join(t1)"
      ]
    },
    {
      "cell_type": "code",
      "execution_count": null,
      "metadata": {
        "id": "v9rZ0uCN0tw9",
        "outputId": "d0cae3d8-4bb7-4a58-fa01-da3256f9c93b",
        "colab": {
          "base_uri": "https://localhost:8080/",
          "height": 36
        }
      },
      "outputs": [
        {
          "output_type": "execute_result",
          "data": {
            "text/plain": [
              "'thisisanexampleofwordsinsequence'"
            ],
            "application/vnd.google.colaboratory.intrinsic+json": {
              "type": "string"
            }
          },
          "metadata": {},
          "execution_count": 220
        }
      ],
      "source": [
        "t3"
      ]
    },
    {
      "cell_type": "code",
      "execution_count": null,
      "metadata": {
        "id": "NzClT6IU0tw9",
        "outputId": "115f0f09-9b47-4831-ccff-0054b9009f2e",
        "colab": {
          "base_uri": "https://localhost:8080/"
        }
      },
      "outputs": [
        {
          "output_type": "execute_result",
          "data": {
            "text/plain": [
              "['thisisanexampleofwordsinsequence']"
            ]
          },
          "metadata": {},
          "execution_count": 221
        }
      ],
      "source": [
        "t3.split()"
      ]
    },
    {
      "cell_type": "code",
      "execution_count": null,
      "metadata": {
        "id": "1EhgEy7f0tw9"
      },
      "outputs": [],
      "source": [
        "t4 = ':'.join(t3)"
      ]
    },
    {
      "cell_type": "code",
      "execution_count": null,
      "metadata": {
        "id": "95xJXVuq0tw9",
        "outputId": "d6fd7413-454c-4d05-c28d-63da37f6884d",
        "colab": {
          "base_uri": "https://localhost:8080/",
          "height": 36
        }
      },
      "outputs": [
        {
          "output_type": "execute_result",
          "data": {
            "text/plain": [
              "'t:h:i:s:i:s:a:n:e:x:a:m:p:l:e:o:f:w:o:r:d:s:i:n:s:e:q:u:e:n:c:e'"
            ],
            "application/vnd.google.colaboratory.intrinsic+json": {
              "type": "string"
            }
          },
          "metadata": {},
          "execution_count": 223
        }
      ],
      "source": [
        "t4"
      ]
    },
    {
      "cell_type": "markdown",
      "metadata": {
        "id": "uPWA61gU0tw9"
      },
      "source": [
        "## How to change or delete a string?\n",
        "\n",
        "Strings are immutable. This means that elements of a string cannot be changed once they have been assigned. We can simply reassign different strings to the same name."
      ]
    },
    {
      "cell_type": "code",
      "execution_count": null,
      "metadata": {
        "id": "qacfPd9R0tw-",
        "outputId": "87073bc1-4b56-4fc7-e906-950b039b4c19",
        "colab": {
          "base_uri": "https://localhost:8080/",
          "height": 36
        }
      },
      "outputs": [
        {
          "output_type": "execute_result",
          "data": {
            "text/plain": [
              "'Python'"
            ],
            "application/vnd.google.colaboratory.intrinsic+json": {
              "type": "string"
            }
          },
          "metadata": {},
          "execution_count": 224
        }
      ],
      "source": [
        "lang"
      ]
    },
    {
      "cell_type": "code",
      "execution_count": null,
      "metadata": {
        "id": "qYvUjzBm0tw-"
      },
      "outputs": [],
      "source": [
        "#lang[4]='a' <-False\n",
        "\n",
        " #lang[4]=\"o\" <-True"
      ]
    },
    {
      "cell_type": "code",
      "execution_count": null,
      "metadata": {
        "id": "qAnsojVI0tw-",
        "outputId": "8a4708eb-751b-4510-90fe-673f516d0c95",
        "colab": {
          "base_uri": "https://localhost:8080/",
          "height": 36
        }
      },
      "outputs": [
        {
          "output_type": "execute_result",
          "data": {
            "text/plain": [
              "'Python'"
            ],
            "application/vnd.google.colaboratory.intrinsic+json": {
              "type": "string"
            }
          },
          "metadata": {},
          "execution_count": 226
        }
      ],
      "source": [
        "lang"
      ]
    },
    {
      "cell_type": "code",
      "execution_count": null,
      "metadata": {
        "id": "PIbHIVjg0tw-"
      },
      "outputs": [],
      "source": [
        "#del lang[3]"
      ]
    },
    {
      "cell_type": "code",
      "execution_count": null,
      "metadata": {
        "id": "FXVrMeOg0tw-"
      },
      "outputs": [],
      "source": [
        "del lang"
      ]
    },
    {
      "cell_type": "code",
      "execution_count": null,
      "metadata": {
        "id": "D_bVuqB70tw-"
      },
      "outputs": [],
      "source": [
        "#lang"
      ]
    },
    {
      "cell_type": "markdown",
      "metadata": {
        "id": "o4UXPhoX0tw_"
      },
      "source": [
        "## Python Strings Operations\n"
      ]
    },
    {
      "cell_type": "markdown",
      "metadata": {
        "id": "wQ4uzaVD0tw_"
      },
      "source": [
        "### 1. Basic Operators for concatenation of two or more strings\n",
        "\n",
        "There are two types of basic operators in String **`+`** and **`*`**.\n",
        "\n",
        "The **`+`** (concatenation) operator can be used to concatenates two or more string literals together.\n",
        "\n",
        "The **`*`** (Replication) operator can be used to repeat the string for a given number of times.\n",
        "\n",
        "#### String Concatenation Operator (**`+`**)\n",
        "Joining of two or more strings into a single one is called concatenation."
      ]
    },
    {
      "cell_type": "markdown",
      "metadata": {
        "id": "oRJgdvJk0tw_"
      },
      "source": [
        "| Expression | Output |\n",
        "|:----| :--- |\n",
        "| **`\"10\" + \"50\"`** |   **\"1050\"**  | \n",
        "| **`\"hello\" + \"009\"`** |   **\"hello009\"** | \n",
        "| **`\"hello99\" + \"world66\" `** |   **\"hello99world66\"** | \n",
        "\n",
        ">**Note:** Both the operands passed for concatenation must be of same type, else it will show an error."
      ]
    },
    {
      "cell_type": "code",
      "execution_count": null,
      "metadata": {
        "id": "0DTStNcx0tw_",
        "outputId": "cffed6bc-a896-4cab-e119-f8857d8150a2",
        "colab": {
          "base_uri": "https://localhost:8080/"
        }
      },
      "outputs": [
        {
          "output_type": "stream",
          "name": "stdout",
          "text": [
            "HelloWorld!\n"
          ]
        }
      ],
      "source": [
        "a=\"Hello\"\n",
        "b=\"World!\"\n",
        "\n",
        "print(a+b)"
      ]
    },
    {
      "cell_type": "code",
      "execution_count": null,
      "metadata": {
        "id": "Ae_sjf-10tw_",
        "outputId": "1e5ba1bb-9316-4a6d-eefa-cb2d0131823e",
        "colab": {
          "base_uri": "https://localhost:8080/"
        }
      },
      "outputs": [
        {
          "output_type": "stream",
          "name": "stdout",
          "text": [
            "Hello World!\n"
          ]
        }
      ],
      "source": [
        "print(a+\" \"+b)"
      ]
    },
    {
      "cell_type": "code",
      "execution_count": null,
      "metadata": {
        "id": "KuQ2pqaj0txA"
      },
      "outputs": [],
      "source": [
        "# print(\"hello\"+99)  -> TypeError: can only concatenate str (not \"int\") to str"
      ]
    },
    {
      "cell_type": "markdown",
      "metadata": {
        "id": "Qlywoxs50txA"
      },
      "source": [
        "#### Python String Replication Operator (**`*`**)\n",
        "\n",
        "\n",
        "| Expression | Output |\n",
        "|:----| :--- |\n",
        "| **`\"ArcX\" * 2`** |   **\"ArcXArcX\"**  | \n",
        "| **`3 *'5'`** |   **\"555\"** | \n",
        "| **`'@'* 5 `** |   **\"@@@@@\"** | \n",
        "\n"
      ]
    },
    {
      "cell_type": "code",
      "execution_count": null,
      "metadata": {
        "id": "7cvmmzbS0txA",
        "outputId": "876039fb-952c-4671-d519-31dce616ff1c",
        "colab": {
          "base_uri": "https://localhost:8080/"
        }
      },
      "outputs": [
        {
          "output_type": "stream",
          "name": "stdout",
          "text": [
            "Hello Hello Hello Hello Hello \n"
          ]
        }
      ],
      "source": [
        "print(\"Hello \" * 5)"
      ]
    },
    {
      "cell_type": "code",
      "execution_count": null,
      "metadata": {
        "id": "Pz5Tkjg70txB",
        "outputId": "ef43a7b3-41e0-497b-9f82-62b567462bdb",
        "colab": {
          "base_uri": "https://localhost:8080/"
        }
      },
      "outputs": [
        {
          "output_type": "stream",
          "name": "stdout",
          "text": [
            "Python Python Python \n"
          ]
        }
      ],
      "source": [
        "print(3 * \"Python \")"
      ]
    },
    {
      "cell_type": "code",
      "execution_count": null,
      "metadata": {
        "id": "BPo4VEyN0txB",
        "outputId": "c154c9ee-1df9-4199-8f86-11447823e524",
        "colab": {
          "base_uri": "https://localhost:8080/"
        }
      },
      "outputs": [
        {
          "output_type": "stream",
          "name": "stdout",
          "text": [
            "Hello Hello Hello Hello Hello \n"
          ]
        }
      ],
      "source": [
        "print((\"Hello\"+\" \") * 5)"
      ]
    },
    {
      "cell_type": "code",
      "execution_count": null,
      "metadata": {
        "id": "M4tNHkPn0txB",
        "outputId": "981fd021-dc59-472d-d962-a5d3e185fb5a",
        "colab": {
          "base_uri": "https://localhost:8080/",
          "height": 36
        }
      },
      "outputs": [
        {
          "output_type": "execute_result",
          "data": {
            "text/plain": [
              "'@%%'"
            ],
            "application/vnd.google.colaboratory.intrinsic+json": {
              "type": "string"
            }
          },
          "metadata": {},
          "execution_count": 236
        }
      ],
      "source": [
        "\"@\"+'%'*2\n"
      ]
    },
    {
      "cell_type": "code",
      "execution_count": null,
      "metadata": {
        "id": "90UvV3Sq0txB",
        "outputId": "5dc51432-0310-437e-c3dc-c963c9d82997",
        "colab": {
          "base_uri": "https://localhost:8080/",
          "height": 36
        }
      },
      "outputs": [
        {
          "output_type": "execute_result",
          "data": {
            "text/plain": [
              "'HelloWorld'"
            ],
            "application/vnd.google.colaboratory.intrinsic+json": {
              "type": "string"
            }
          },
          "metadata": {},
          "execution_count": 237
        }
      ],
      "source": [
        "s=('Hello'\n",
        "  'World')\n",
        "s"
      ]
    },
    {
      "cell_type": "code",
      "execution_count": null,
      "metadata": {
        "id": "I04TCUem0txC",
        "outputId": "a76953ae-32f6-4b2d-b28b-fdb5559da999",
        "colab": {
          "base_uri": "https://localhost:8080/",
          "height": 36
        }
      },
      "outputs": [
        {
          "output_type": "execute_result",
          "data": {
            "text/plain": [
              "'@%@%'"
            ],
            "application/vnd.google.colaboratory.intrinsic+json": {
              "type": "string"
            }
          },
          "metadata": {},
          "execution_count": 238
        }
      ],
      "source": [
        "(\"@\"+'%')*2"
      ]
    },
    {
      "cell_type": "markdown",
      "metadata": {
        "id": "1U3xym0V0txC"
      },
      "source": [
        "### 2. Python String Membership Operators\n",
        "\n",
        "Membership Operators are already discussed in the Operators section. Let see with context of String.\n",
        "\n",
        "There are two types of Membership operators :\n",
        "\n",
        "1. **`in`** - \"in\" operator returns true if a character or the entire substring is present in the specified string, otherwise false.\n",
        "\n",
        "2. **`not in`** - \"not in\" operator returns true if a character or entire substring does not exist in the specified string, otherwise false."
      ]
    },
    {
      "cell_type": "code",
      "execution_count": null,
      "metadata": {
        "id": "K6RFHdSD0txD",
        "outputId": "a9f5b1af-9b7a-43f2-b7c6-3ae53b6380fb",
        "colab": {
          "base_uri": "https://localhost:8080/"
        }
      },
      "outputs": [
        {
          "output_type": "stream",
          "name": "stdout",
          "text": [
            "True\n"
          ]
        }
      ],
      "source": [
        "str1=\"HelloWorld\"\n",
        "str2= \"Hello\"\n",
        "str3=\"World\"\n",
        "\n",
        "print(str2 in str1)\n",
        "\n"
      ]
    },
    {
      "cell_type": "code",
      "execution_count": null,
      "metadata": {
        "id": "JNIG6qVa0txD",
        "outputId": "f74fd50a-b5c6-42cc-d25c-654781c71e81",
        "colab": {
          "base_uri": "https://localhost:8080/"
        }
      },
      "outputs": [
        {
          "output_type": "stream",
          "name": "stdout",
          "text": [
            "True\n",
            "\n",
            "False\n",
            "False\n"
          ]
        }
      ],
      "source": [
        "print(str3 in str1)\n",
        "print()\n",
        "print(str2 not in str1)\n",
        "print(str3 not in str1)"
      ]
    },
    {
      "cell_type": "code",
      "execution_count": null,
      "metadata": {
        "id": "jgAsi_Oa0txD",
        "colab": {
          "base_uri": "https://localhost:8080/"
        },
        "outputId": "ab16bafb-4f43-4e7b-a382-e59aaf3c2552"
      },
      "outputs": [
        {
          "output_type": "stream",
          "name": "stdout",
          "text": [
            "False\n",
            "True\n"
          ]
        }
      ],
      "source": [
        "str4=\"Ajantha\"\n",
        "\n",
        "print(str4 in str1)\n",
        "print(str4 not in str1)"
      ]
    },
    {
      "cell_type": "markdown",
      "metadata": {
        "id": "4tXuA_in0txE"
      },
      "source": [
        "### 3. Python Relational Operators \n",
        "\n",
        "All the comparison (relational) operators i.e., **(<, ><=, >=, ==, !=, <>)** are also applicable for strings. The Strings are compared based on the **ASCII value** or **Unicode**(i.e., dictionary Order)."
      ]
    },
    {
      "cell_type": "code",
      "execution_count": null,
      "metadata": {
        "id": "N7qNMW5B0txE"
      },
      "outputs": [],
      "source": [
        "# <, >, <=, >=, ==, !=, <>"
      ]
    },
    {
      "cell_type": "code",
      "execution_count": null,
      "metadata": {
        "id": "vLtdmdJF0txE",
        "outputId": "8de10937-141a-446b-be73-2e8243d44d78",
        "colab": {
          "base_uri": "https://localhost:8080/"
        }
      },
      "outputs": [
        {
          "output_type": "stream",
          "name": "stdout",
          "text": [
            "False\n"
          ]
        }
      ],
      "source": [
        "print(\"Hello\"==\"hello\")"
      ]
    },
    {
      "cell_type": "code",
      "execution_count": null,
      "metadata": {
        "id": "-YEF_3GO0txE",
        "outputId": "f40dace1-5bbb-4540-c04b-f584d19cf296",
        "colab": {
          "base_uri": "https://localhost:8080/"
        }
      },
      "outputs": [
        {
          "output_type": "stream",
          "name": "stdout",
          "text": [
            "True\n"
          ]
        }
      ],
      "source": [
        "print(\"Hello\"<=\"hello\")"
      ]
    },
    {
      "cell_type": "code",
      "execution_count": null,
      "metadata": {
        "id": "1IatAg3H0txE",
        "outputId": "666649da-1b50-4dee-a2a3-2f4e87735141",
        "colab": {
          "base_uri": "https://localhost:8080/"
        }
      },
      "outputs": [
        {
          "output_type": "stream",
          "name": "stdout",
          "text": [
            "True\n"
          ]
        }
      ],
      "source": [
        "print('H'<'h')"
      ]
    },
    {
      "cell_type": "code",
      "execution_count": null,
      "metadata": {
        "id": "UeQstdlz0txF",
        "outputId": "a48e92ca-93ed-4fea-f5ca-8165b77010f5",
        "colab": {
          "base_uri": "https://localhost:8080/"
        }
      },
      "outputs": [
        {
          "output_type": "stream",
          "name": "stdout",
          "text": [
            "True\n"
          ]
        }
      ],
      "source": [
        "# ASCII vale of \n",
        "\"\"\"A 65\n",
        "B 66\n",
        "C 67\n",
        "so on\n",
        "\n",
        "a 97\n",
        "b 98\n",
        "c 99\n",
        "so on\n",
        "\"\"\"\n",
        "print(\"A\"<'a')"
      ]
    },
    {
      "cell_type": "code",
      "execution_count": null,
      "metadata": {
        "id": "4DtJvFYB0txF",
        "outputId": "84155f1b-87e4-4e3a-ff7d-0327b6f44962",
        "colab": {
          "base_uri": "https://localhost:8080/"
        }
      },
      "outputs": [
        {
          "output_type": "stream",
          "name": "stdout",
          "text": [
            "False\n"
          ]
        }
      ],
      "source": [
        "print(\"Helloworld\"<\"HelloWorld\")"
      ]
    },
    {
      "cell_type": "code",
      "execution_count": null,
      "metadata": {
        "id": "iy83m5mh0txF",
        "colab": {
          "base_uri": "https://localhost:8080/",
          "height": 36
        },
        "outputId": "2e7b4db6-7438-4a7e-ab62-feb4f0c24557"
      },
      "outputs": [
        {
          "output_type": "execute_result",
          "data": {
            "text/plain": [
              "'\\n%s\\n%d\\n%f\\n%o\\n%x\\n%e\\n\\n'"
            ],
            "application/vnd.google.colaboratory.intrinsic+json": {
              "type": "string"
            }
          },
          "metadata": {},
          "execution_count": 248
        }
      ],
      "source": [
        "\"\"\"\n",
        "%s\n",
        "%d\n",
        "%f\n",
        "%o\n",
        "%x\n",
        "%e\n",
        "\n",
        "\"\"\""
      ]
    },
    {
      "cell_type": "code",
      "execution_count": null,
      "metadata": {
        "id": "y-xuFb690txF",
        "outputId": "b1991ddd-6a19-4d0c-f572-fa3638f25397",
        "colab": {
          "base_uri": "https://localhost:8080/"
        }
      },
      "outputs": [
        {
          "output_type": "stream",
          "name": "stdout",
          "text": [
            "Hello Ajantha\n"
          ]
        }
      ],
      "source": [
        "str1=\"Ajantha\"\n",
        "\n",
        "print(\"Hello %s\" % str1)"
      ]
    },
    {
      "cell_type": "code",
      "execution_count": null,
      "metadata": {
        "id": "Z1qEvy9k0txF",
        "outputId": "a3d65e03-cac7-434f-f440-3d8670d24e06",
        "colab": {
          "base_uri": "https://localhost:8080/"
        }
      },
      "outputs": [
        {
          "output_type": "stream",
          "name": "stdout",
          "text": [
            "Number = 19\n"
          ]
        }
      ],
      "source": [
        "print(\"Number = %d\" % 19)"
      ]
    },
    {
      "cell_type": "code",
      "execution_count": null,
      "metadata": {
        "id": "Ha_g6Tzh0txF",
        "outputId": "65c3e7c3-6eec-488e-c403-f505e8eb70ba",
        "colab": {
          "base_uri": "https://localhost:8080/"
        }
      },
      "outputs": [
        {
          "output_type": "stream",
          "name": "stdout",
          "text": [
            "Float Number = 19.000000\n"
          ]
        }
      ],
      "source": [
        "print(\"Float Number = %f\" % 19)"
      ]
    },
    {
      "cell_type": "code",
      "execution_count": null,
      "metadata": {
        "id": "THYlj_5Y0txG",
        "outputId": "752d7bc5-4b3e-4a8c-9779-df5d1017df1c",
        "colab": {
          "base_uri": "https://localhost:8080/"
        }
      },
      "outputs": [
        {
          "output_type": "stream",
          "name": "stdout",
          "text": [
            "Number = 23\n"
          ]
        }
      ],
      "source": [
        "print(\"Number = %o\" % 19)"
      ]
    },
    {
      "cell_type": "code",
      "execution_count": null,
      "metadata": {
        "id": "9O4hGy590txG",
        "outputId": "8109e1b2-6c08-4794-bb1c-e9f2514bdea2",
        "colab": {
          "base_uri": "https://localhost:8080/"
        }
      },
      "outputs": [
        {
          "output_type": "stream",
          "name": "stdout",
          "text": [
            "Number = 13\n"
          ]
        }
      ],
      "source": [
        "print(\"Number = %x\" % 19)"
      ]
    },
    {
      "cell_type": "code",
      "execution_count": null,
      "metadata": {
        "id": "vaeCVpMC0txG",
        "outputId": "ed819a40-fea4-4fc4-808d-26ecf020b003",
        "colab": {
          "base_uri": "https://localhost:8080/"
        }
      },
      "outputs": [
        {
          "output_type": "stream",
          "name": "stdout",
          "text": [
            "Number = 1.900000e+01\n"
          ]
        }
      ],
      "source": [
        "print(\"Number = %e\" % 19)"
      ]
    },
    {
      "cell_type": "code",
      "execution_count": null,
      "metadata": {
        "id": "kCmuaQbF0txG",
        "outputId": "798126ea-05da-4d38-cfec-d5a1f59550e7",
        "colab": {
          "base_uri": "https://localhost:8080/"
        }
      },
      "outputs": [
        {
          "output_type": "stream",
          "name": "stdout",
          "text": [
            "Welcome Ajantha Welcome Ajantha Today it the date of 9\n"
          ]
        }
      ],
      "source": [
        "print(\"Welcome %s Welcome %s Today it the date of %d\" % (str1,str1, 9))"
      ]
    },
    {
      "cell_type": "markdown",
      "metadata": {
        "id": "v13Exsv40txG"
      },
      "source": [
        "### Built-in functions to Work with Python\n"
      ]
    },
    {
      "cell_type": "code",
      "execution_count": null,
      "metadata": {
        "id": "XC-2KUnb0txH"
      },
      "outputs": [],
      "source": [
        "#len()\n",
        "#enumerate()"
      ]
    },
    {
      "cell_type": "code",
      "execution_count": null,
      "metadata": {
        "id": "k5kwTnyF0txH",
        "outputId": "48fa2ff9-9675-493a-a22a-2ff223070998",
        "colab": {
          "base_uri": "https://localhost:8080/"
        }
      },
      "outputs": [
        {
          "output_type": "execute_result",
          "data": {
            "text/plain": [
              "((0, 'P'), (1, 'y'), (2, 't'), (3, 'h'), (4, 'o'), (5, 'n'))"
            ]
          },
          "metadata": {},
          "execution_count": 257
        }
      ],
      "source": [
        "str1=\"Python\"\n",
        "tuple(enumerate(str1))"
      ]
    },
    {
      "cell_type": "code",
      "execution_count": null,
      "metadata": {
        "id": "jwfPtbNQ0txH",
        "outputId": "1c096090-e61d-4bb3-a830-11372c0ba97f",
        "colab": {
          "base_uri": "https://localhost:8080/"
        }
      },
      "outputs": [
        {
          "output_type": "execute_result",
          "data": {
            "text/plain": [
              "6"
            ]
          },
          "metadata": {},
          "execution_count": 258
        }
      ],
      "source": [
        "len(str1)"
      ]
    },
    {
      "cell_type": "markdown",
      "metadata": {
        "id": "m7TNR1PR0txH"
      },
      "source": [
        "## Python String Formatting"
      ]
    },
    {
      "cell_type": "markdown",
      "metadata": {
        "id": "zjs7o-ER0txH"
      },
      "source": [
        "### Escape Sequence\n",
        "\n",
        "If we want to print a text like `He said, \"What's there?\"`, we can neither use single quotes nor double quotes. This will result in a SyntaxError as the text itself contains both single and double quotes."
      ]
    },
    {
      "cell_type": "code",
      "execution_count": null,
      "metadata": {
        "id": "czcj0Vom0txI"
      },
      "outputs": [],
      "source": [
        "#print(\"He said, \"What's there?\"\") -> SyntaxError: invalid syntax"
      ]
    },
    {
      "cell_type": "markdown",
      "metadata": {
        "id": "Sr_1lQ9K0txI"
      },
      "source": [
        "### Here is a list of all the escape sequences supported by Python.\n",
        "\n",
        "| Escape Sequence | Description |\n",
        "|:----:| :--- |\n",
        "| **`\\newline`** |   Backslash and newline ignored  | \n",
        "| **`\\\\`** |   Backslash | \n",
        "| **`\\'`** |   Single quote | \n",
        "| **`\\\"`** |   Double quote | \n",
        "| **`\\a`** |   ASCII Bell | \n",
        "| **`\\b`** |   ASCII Backspace | \n",
        "| **`\\f`** |   ASCII Formfeed | \n",
        "| **`\\n`** |   ASCII Linefeed | \n",
        "| **`\\r`** |   ASCII Carriage Return |\n",
        "| **`\\t`** |   ASCII Horizontal Tab | \n",
        "| **`\\v`** |   ASCII Vertical Tab | \n",
        "| **`\\ooo`** |   Character with octal value ooo | \n",
        "| **`\\xHH`** |   Character with hexadecimal value HH | "
      ]
    },
    {
      "cell_type": "code",
      "execution_count": null,
      "metadata": {
        "id": "agpphk8I0txI",
        "outputId": "c50d545a-baf9-4e9b-cb01-32f57359c616",
        "colab": {
          "base_uri": "https://localhost:8080/"
        }
      },
      "outputs": [
        {
          "output_type": "stream",
          "name": "stdout",
          "text": [
            "He said, \"What's there?\"\n"
          ]
        }
      ],
      "source": [
        "print('''He said, \"What's there?\"''')"
      ]
    },
    {
      "cell_type": "code",
      "execution_count": null,
      "metadata": {
        "id": "eVrIMrzH0txI",
        "outputId": "4f7cd053-f908-4c33-9ecd-7a44d2483e98",
        "colab": {
          "base_uri": "https://localhost:8080/"
        }
      },
      "outputs": [
        {
          "output_type": "stream",
          "name": "stdout",
          "text": [
            "He said, \"What's there?\"\n"
          ]
        }
      ],
      "source": [
        "print('He said, \"What\\'s there?\"')"
      ]
    },
    {
      "cell_type": "code",
      "execution_count": null,
      "metadata": {
        "id": "hTgBXKTc0txI",
        "outputId": "27dfc3d6-d09b-4fc1-f695-a576e4771e91",
        "colab": {
          "base_uri": "https://localhost:8080/"
        }
      },
      "outputs": [
        {
          "output_type": "stream",
          "name": "stdout",
          "text": [
            "He said, \"What's there?\"\n"
          ]
        }
      ],
      "source": [
        "print(\"He said, \\\"What's there?\\\"\")"
      ]
    },
    {
      "cell_type": "code",
      "execution_count": null,
      "metadata": {
        "id": "MlDQLNEO0txJ",
        "outputId": "bc3d6d58-ed83-4a4a-8fbf-b5eed8b7b26b",
        "colab": {
          "base_uri": "https://localhost:8080/"
        }
      },
      "outputs": [
        {
          "output_type": "stream",
          "name": "stdout",
          "text": [
            "He said, \"What's there?\"\n"
          ]
        }
      ],
      "source": [
        "print('He said, \\\"What\\'s there?\\\"')"
      ]
    },
    {
      "cell_type": "markdown",
      "metadata": {
        "id": "AJGish_s0txJ"
      },
      "source": [
        "### The `format()` Method for Formatting Strings\n",
        "\n",
        "The **`format()`** method that is available with the string object is very versatile and powerful in formatting strings. Format strings contain curly braces **`{}`** as placeholders or replacement fields which get replaced.\n",
        "\n",
        "We can use positional arguments or keyword arguments to specify the order."
      ]
    },
    {
      "cell_type": "code",
      "execution_count": null,
      "metadata": {
        "id": "l_U0Rs2t0txJ",
        "outputId": "993c0473-cd4d-4b82-94d1-e3bc4f72cba8",
        "colab": {
          "base_uri": "https://localhost:8080/"
        }
      },
      "outputs": [
        {
          "output_type": "stream",
          "name": "stdout",
          "text": [
            "me and u, parellely working today on python\n"
          ]
        }
      ],
      "source": [
        "print(\"{} and {}, parellely working today on python\".format('me', 'u'))"
      ]
    },
    {
      "cell_type": "code",
      "execution_count": null,
      "metadata": {
        "id": "agVyAwt90txJ",
        "outputId": "7839dc33-9d60-4f41-f241-87657ee81b54",
        "colab": {
          "base_uri": "https://localhost:8080/"
        }
      },
      "outputs": [
        {
          "output_type": "stream",
          "name": "stdout",
          "text": [
            "u and me, parellely working today on python\n"
          ]
        }
      ],
      "source": [
        "print(\"{1} and {0}, parellely working today on python\".format('me', 'u'))"
      ]
    }
  ],
  "metadata": {
    "hide_input": false,
    "kernelspec": {
      "display_name": "Python 3 (ipykernel)",
      "language": "python",
      "name": "python3"
    },
    "language_info": {
      "codemirror_mode": {
        "name": "ipython",
        "version": 3
      },
      "file_extension": ".py",
      "mimetype": "text/x-python",
      "name": "python",
      "nbconvert_exporter": "python",
      "pygments_lexer": "ipython3",
      "version": "3.9.7"
    },
    "toc": {
      "base_numbering": 1,
      "nav_menu": {},
      "number_sections": true,
      "sideBar": true,
      "skip_h1_title": false,
      "title_cell": "Table of Contents",
      "title_sidebar": "Contents",
      "toc_cell": false,
      "toc_position": {},
      "toc_section_display": true,
      "toc_window_display": false
    },
    "varInspector": {
      "cols": {
        "lenName": 16,
        "lenType": 16,
        "lenVar": 40
      },
      "kernels_config": {
        "python": {
          "delete_cmd_postfix": "",
          "delete_cmd_prefix": "del ",
          "library": "var_list.py",
          "varRefreshCmd": "print(var_dic_list())"
        },
        "r": {
          "delete_cmd_postfix": ") ",
          "delete_cmd_prefix": "rm(",
          "library": "var_list.r",
          "varRefreshCmd": "cat(var_dic_list()) "
        }
      },
      "types_to_exclude": [
        "module",
        "function",
        "builtin_function_or_method",
        "instance",
        "_Feature"
      ],
      "window_display": false
    },
    "colab": {
      "provenance": [],
      "include_colab_link": true
    }
  },
  "nbformat": 4,
  "nbformat_minor": 0
}