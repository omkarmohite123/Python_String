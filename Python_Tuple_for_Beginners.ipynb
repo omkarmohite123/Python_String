{
  "cells": [
    {
      "cell_type": "markdown",
      "metadata": {
        "id": "view-in-github",
        "colab_type": "text"
      },
      "source": [
        "<a href=\"https://colab.research.google.com/github/omkarmohite123/Python_String-List-Tuple-Dictionary_for_beginners/blob/main/Python_Tuple_for_Beginners.ipynb\" target=\"_parent\"><img src=\"https://colab.research.google.com/assets/colab-badge.svg\" alt=\"Open In Colab\"/></a>"
      ]
    },
    {
      "cell_type": "markdown",
      "metadata": {
        "id": "KW5IM8TN0nuV"
      },
      "source": [
        "# Python Tuple\n"
      ]
    },
    {
      "cell_type": "markdown",
      "metadata": {
        "heading_collapsed": true,
        "id": "pVXtkyci0nuZ"
      },
      "source": [
        "## What is Tuple in Python?\n"
      ]
    },
    {
      "cell_type": "markdown",
      "metadata": {
        "id": "ir05zD230nua"
      },
      "source": [
        "\n",
        "\n",
        "| Data types     | Type          |         |\n",
        "| :------------: | :-----------: |:------: |\n",
        "| **String**     | **immutable** |  |\n",
        "| **List**       | **mutable**   |✎|\n",
        "| **Tuple**      | **immutable** |  |"
      ]
    },
    {
      "cell_type": "markdown",
      "metadata": {
        "id": "GcxV_iqo0nua"
      },
      "source": [
        "## Creating Python Tuple\n",
        "\n",
        "<div>\n",
        "<img src=\"img/t0.png\" width=\"500\"/>\n",
        "</div>"
      ]
    },
    {
      "cell_type": "code",
      "execution_count": 233,
      "metadata": {
        "id": "8miyeYK80nub",
        "outputId": "c3f92ce8-c5ad-430b-ceab-d6910e6de7b2",
        "colab": {
          "base_uri": "https://localhost:8080/"
        }
      },
      "outputs": [
        {
          "output_type": "execute_result",
          "data": {
            "text/plain": [
              "()"
            ]
          },
          "metadata": {},
          "execution_count": 233
        }
      ],
      "source": [
        "tup1 = ()\n",
        "tup1"
      ]
    },
    {
      "cell_type": "code",
      "execution_count": 234,
      "metadata": {
        "id": "65mKpXJa0nuc",
        "outputId": "7122f465-60d4-4ba3-d50d-3e60fe222220",
        "colab": {
          "base_uri": "https://localhost:8080/"
        }
      },
      "outputs": [
        {
          "output_type": "execute_result",
          "data": {
            "text/plain": [
              "(1, 2, 3)"
            ]
          },
          "metadata": {},
          "execution_count": 234
        }
      ],
      "source": [
        "tup2=(1,2,3)\n",
        "tup2"
      ]
    },
    {
      "cell_type": "code",
      "execution_count": 235,
      "metadata": {
        "id": "QXbsiZPl0nud",
        "outputId": "ff2f4a2f-9490-4437-943f-20b793017e2e",
        "colab": {
          "base_uri": "https://localhost:8080/"
        }
      },
      "outputs": [
        {
          "output_type": "execute_result",
          "data": {
            "text/plain": [
              "(1, 2, 3, 'hello', '444', 5.6)"
            ]
          },
          "metadata": {},
          "execution_count": 235
        }
      ],
      "source": [
        "tup3=(1,2,3,'hello', '444',5.6)\n",
        "tup3"
      ]
    },
    {
      "cell_type": "code",
      "execution_count": 236,
      "metadata": {
        "id": "xOZY5oPP0nud",
        "outputId": "c6c50aef-0263-4adc-f72b-3be10f2b921d",
        "colab": {
          "base_uri": "https://localhost:8080/"
        }
      },
      "outputs": [
        {
          "output_type": "execute_result",
          "data": {
            "text/plain": [
              "(1, 2, 3, [2, 3, 4], (2, 2, 2))"
            ]
          },
          "metadata": {},
          "execution_count": 236
        }
      ],
      "source": [
        "tup4 = (1,2,3,[2,3,4], (2,2,2))\n",
        "\n",
        "tup4"
      ]
    },
    {
      "cell_type": "code",
      "execution_count": 237,
      "metadata": {
        "id": "Evltm_C60nue",
        "outputId": "d019c9ee-241d-4621-d7fc-296aaf4cd037",
        "colab": {
          "base_uri": "https://localhost:8080/"
        }
      },
      "outputs": [
        {
          "output_type": "execute_result",
          "data": {
            "text/plain": [
              "(3, 4.6, 'god')"
            ]
          },
          "metadata": {},
          "execution_count": 237
        }
      ],
      "source": [
        "#unpacking\n",
        "my_tup = 3,4.6,'god'\n",
        "\n",
        "my_tup\n",
        "\n"
      ]
    },
    {
      "cell_type": "code",
      "execution_count": 238,
      "metadata": {
        "id": "9P107D1z0nue"
      },
      "outputs": [],
      "source": [
        "a,b,c = my_tup"
      ]
    },
    {
      "cell_type": "code",
      "execution_count": 239,
      "metadata": {
        "id": "8G2kAlQh0nuf",
        "outputId": "19adfe94-0ae9-4302-9faf-ae4a5275b453",
        "colab": {
          "base_uri": "https://localhost:8080/"
        }
      },
      "outputs": [
        {
          "output_type": "stream",
          "name": "stdout",
          "text": [
            "3\n",
            "4.6\n",
            "god\n"
          ]
        }
      ],
      "source": [
        "print(a)\n",
        "print(b)\n",
        "print(c)"
      ]
    },
    {
      "cell_type": "code",
      "execution_count": 240,
      "metadata": {
        "id": "kcBlmH7F0nuf"
      },
      "outputs": [],
      "source": [
        "t1 =(5)"
      ]
    },
    {
      "cell_type": "code",
      "execution_count": 241,
      "metadata": {
        "id": "R2ds41Nv0nuf",
        "outputId": "a73a42fe-15aa-4da0-808c-edb1152a83a7",
        "colab": {
          "base_uri": "https://localhost:8080/"
        }
      },
      "outputs": [
        {
          "output_type": "execute_result",
          "data": {
            "text/plain": [
              "5"
            ]
          },
          "metadata": {},
          "execution_count": 241
        }
      ],
      "source": [
        "t1"
      ]
    },
    {
      "cell_type": "code",
      "execution_count": 242,
      "metadata": {
        "id": "1uWuBBQH0nug",
        "outputId": "d1e05395-ee88-4752-f7d9-b0c7457ccf62",
        "colab": {
          "base_uri": "https://localhost:8080/"
        }
      },
      "outputs": [
        {
          "output_type": "execute_result",
          "data": {
            "text/plain": [
              "int"
            ]
          },
          "metadata": {},
          "execution_count": 242
        }
      ],
      "source": [
        "type(t1)"
      ]
    },
    {
      "cell_type": "code",
      "execution_count": 242,
      "metadata": {
        "id": "py2UPhdE0nug"
      },
      "outputs": [],
      "source": []
    },
    {
      "cell_type": "code",
      "execution_count": 243,
      "metadata": {
        "id": "BbnHTKWq0nug"
      },
      "outputs": [],
      "source": [
        "t2=(5,)"
      ]
    },
    {
      "cell_type": "code",
      "execution_count": 244,
      "metadata": {
        "id": "dIdfGUnT0nug",
        "outputId": "f7646003-af86-4fa4-d97e-7e22b0c242b4",
        "colab": {
          "base_uri": "https://localhost:8080/"
        }
      },
      "outputs": [
        {
          "output_type": "execute_result",
          "data": {
            "text/plain": [
              "(5,)"
            ]
          },
          "metadata": {},
          "execution_count": 244
        }
      ],
      "source": [
        "t2"
      ]
    },
    {
      "cell_type": "code",
      "execution_count": 245,
      "metadata": {
        "id": "m2V7u64-0nuh",
        "outputId": "88a9210f-bbed-4bb1-cd64-cfd5d066bdbe",
        "colab": {
          "base_uri": "https://localhost:8080/"
        }
      },
      "outputs": [
        {
          "output_type": "execute_result",
          "data": {
            "text/plain": [
              "tuple"
            ]
          },
          "metadata": {},
          "execution_count": 245
        }
      ],
      "source": [
        "type(t2)"
      ]
    },
    {
      "cell_type": "markdown",
      "metadata": {
        "id": "3J1P16dM0nuh"
      },
      "source": [
        "## Access Tuple Elements\n",
        "\n",
        "There are various ways in which we can access the elements of a tuple."
      ]
    },
    {
      "cell_type": "markdown",
      "metadata": {
        "id": "LdS7vMiy0nui"
      },
      "source": [
        "### 1. Indexing\n"
      ]
    },
    {
      "cell_type": "code",
      "execution_count": 246,
      "metadata": {
        "id": "SYLZUDM80nui",
        "outputId": "eefd0eb6-c284-4041-c387-707e74767d51",
        "colab": {
          "base_uri": "https://localhost:8080/"
        }
      },
      "outputs": [
        {
          "output_type": "execute_result",
          "data": {
            "text/plain": [
              "3"
            ]
          },
          "metadata": {},
          "execution_count": 246
        }
      ],
      "source": [
        "tup_st = (1,2,3,4,5,6)\n",
        "\n",
        "tup_st[2]"
      ]
    },
    {
      "cell_type": "code",
      "execution_count": 247,
      "metadata": {
        "id": "xA1prqFf0nui",
        "outputId": "06f09c8f-8f56-4f89-8f86-52af8e28ccad",
        "colab": {
          "base_uri": "https://localhost:8080/"
        }
      },
      "outputs": [
        {
          "output_type": "execute_result",
          "data": {
            "text/plain": [
              "(1, 2, 3, 4, 5, 6)"
            ]
          },
          "metadata": {},
          "execution_count": 247
        }
      ],
      "source": [
        "tup_st"
      ]
    },
    {
      "cell_type": "code",
      "execution_count": 248,
      "metadata": {
        "id": "yOFKARAS0nui",
        "outputId": "f6b1a850-6924-45e4-e4da-1a152c796412",
        "colab": {
          "base_uri": "https://localhost:8080/"
        }
      },
      "outputs": [
        {
          "output_type": "execute_result",
          "data": {
            "text/plain": [
              "5"
            ]
          },
          "metadata": {},
          "execution_count": 248
        }
      ],
      "source": [
        "tup_st[4]"
      ]
    },
    {
      "cell_type": "code",
      "execution_count": 249,
      "metadata": {
        "id": "D0KeDkS_0nui",
        "outputId": "639fa3b9-139f-41d6-b165-26dd6fa3f0a3",
        "colab": {
          "base_uri": "https://localhost:8080/"
        }
      },
      "outputs": [
        {
          "output_type": "execute_result",
          "data": {
            "text/plain": [
              "6"
            ]
          },
          "metadata": {},
          "execution_count": 249
        }
      ],
      "source": [
        "tup_st[5]"
      ]
    },
    {
      "cell_type": "code",
      "execution_count": 250,
      "metadata": {
        "id": "qGQhVB5D0nuj",
        "outputId": "b6eb2bab-5360-41c7-9558-abd9f304bc41",
        "colab": {
          "base_uri": "https://localhost:8080/"
        }
      },
      "outputs": [
        {
          "output_type": "execute_result",
          "data": {
            "text/plain": [
              "2"
            ]
          },
          "metadata": {},
          "execution_count": 250
        }
      ],
      "source": [
        "tup_ex = ((1,2,3), (4,5,6),7,8)\n",
        "tup_ex[0][1]"
      ]
    },
    {
      "cell_type": "code",
      "execution_count": 251,
      "metadata": {
        "id": "X_eKJOhW0nuj"
      },
      "outputs": [],
      "source": [
        "tup_ex = ((1,2,(3,'g','u')), [4,5,6],7,8)"
      ]
    },
    {
      "cell_type": "code",
      "execution_count": 252,
      "metadata": {
        "id": "0tXRQBlK0nuj",
        "outputId": "1f3f90c3-1866-4268-fb54-5762bacd2346",
        "colab": {
          "base_uri": "https://localhost:8080/"
        }
      },
      "outputs": [
        {
          "output_type": "execute_result",
          "data": {
            "text/plain": [
              "(3, 'g', 'u')"
            ]
          },
          "metadata": {},
          "execution_count": 252
        }
      ],
      "source": [
        "tup_ex[0][2]"
      ]
    },
    {
      "cell_type": "code",
      "execution_count": 253,
      "metadata": {
        "id": "1YIdPEof0nuj",
        "outputId": "1e32fbec-156c-4d43-db0c-21a36760dc7a",
        "colab": {
          "base_uri": "https://localhost:8080/"
        }
      },
      "outputs": [
        {
          "output_type": "execute_result",
          "data": {
            "text/plain": [
              "7"
            ]
          },
          "metadata": {},
          "execution_count": 253
        }
      ],
      "source": [
        "tup_ex[2]"
      ]
    },
    {
      "cell_type": "markdown",
      "metadata": {
        "id": "qGJZMR7i0nuk"
      },
      "source": [
        "### 2. Negative Indexing\n",
        "\n",
        "Python allows negative indexing for its sequences.\n"
      ]
    },
    {
      "cell_type": "code",
      "execution_count": 254,
      "metadata": {
        "id": "pIng5iJL0nuk",
        "outputId": "5debb377-97f9-489b-923d-89fb6c3f15aa",
        "colab": {
          "base_uri": "https://localhost:8080/"
        }
      },
      "outputs": [
        {
          "output_type": "execute_result",
          "data": {
            "text/plain": [
              "(1, 2, 3, 4, 5, 6)"
            ]
          },
          "metadata": {},
          "execution_count": 254
        }
      ],
      "source": [
        "tup_st"
      ]
    },
    {
      "cell_type": "code",
      "execution_count": 255,
      "metadata": {
        "id": "5FSjeYoT0nuk",
        "outputId": "7b5ea51d-8290-4370-c422-879c074e7540",
        "colab": {
          "base_uri": "https://localhost:8080/"
        }
      },
      "outputs": [
        {
          "output_type": "execute_result",
          "data": {
            "text/plain": [
              "5"
            ]
          },
          "metadata": {},
          "execution_count": 255
        }
      ],
      "source": [
        "tup_st[-2]"
      ]
    },
    {
      "cell_type": "code",
      "execution_count": 256,
      "metadata": {
        "id": "IGKYLhm30nuk",
        "outputId": "f7b4cf76-d3b0-4d99-908f-403ad5f08983",
        "colab": {
          "base_uri": "https://localhost:8080/"
        }
      },
      "outputs": [
        {
          "output_type": "stream",
          "name": "stdout",
          "text": [
            "4\n",
            "(7, 4)\n",
            "7\n",
            "(3, 7)\n",
            "(2, 4, 7, 3)\n"
          ]
        }
      ],
      "source": [
        "tup=(3,7,4,2)\n",
        "print(tup[2])\n",
        "print(tup[1:3])\n",
        "print(tup[-3])\n",
        "print(tup[-4:-2])\n",
        "print(tup[-1: :-1])"
      ]
    },
    {
      "cell_type": "markdown",
      "metadata": {
        "id": "9BzHVsG00nuk"
      },
      "source": [
        "# Slicing"
      ]
    },
    {
      "cell_type": "code",
      "execution_count": 257,
      "metadata": {
        "id": "45M8kAk00nuk",
        "outputId": "57008481-60ec-470b-d7dd-3964d5a2381e",
        "colab": {
          "base_uri": "https://localhost:8080/"
        }
      },
      "outputs": [
        {
          "output_type": "stream",
          "name": "stdout",
          "text": [
            "('r', 'o', 'g')\n",
            "('p', 'r', 'o')\n",
            "('p', 'r', 'o')\n",
            "('i', 'n', 'g')\n",
            "('p', 'r', 'o', 'g', 'r', 'a', 'm', 'i', 'n', 'g')\n"
          ]
        }
      ],
      "source": [
        "#tuple[start:stop:step]\n",
        "\n",
        "tupl = ('p','r','o','g','r','a','m','i','n','g')\n",
        "\n",
        "\n",
        "#elements from 2nd to 4th\n",
        "print(tupl[1:4])\n",
        "\n",
        "#elements from begining to 2nd\n",
        "print(tupl[0:3])\n",
        "print(tupl[:-7])\n",
        "\n",
        "# elements 8th to end\n",
        "print(tupl[7:])\n",
        "\n",
        "#elements begining to end\n",
        "print(tupl[:])\n"
      ]
    },
    {
      "cell_type": "markdown",
      "metadata": {
        "id": "KQ-6u9gt0nul"
      },
      "source": [
        "## Tuple Operations"
      ]
    },
    {
      "cell_type": "markdown",
      "metadata": {
        "id": "tJ_5SiGr0nul"
      },
      "source": [
        "### 1. Changing a Tuple\n"
      ]
    },
    {
      "cell_type": "code",
      "execution_count": 258,
      "metadata": {
        "id": "mkQ2L1su0nul"
      },
      "outputs": [],
      "source": [
        "tup = (4,2,3,[6,5])\n",
        "\n",
        "#tup[1] = 4 -> error tuo[1]=2"
      ]
    },
    {
      "cell_type": "code",
      "execution_count": 259,
      "metadata": {
        "id": "qMI48ylM0nul"
      },
      "outputs": [],
      "source": [
        "tup[3][0] = 7"
      ]
    },
    {
      "cell_type": "code",
      "execution_count": 260,
      "metadata": {
        "id": "R1SPPrmG0nul",
        "outputId": "fc72f6d0-0eb8-4e28-95ba-84eea980050c",
        "colab": {
          "base_uri": "https://localhost:8080/"
        }
      },
      "outputs": [
        {
          "output_type": "execute_result",
          "data": {
            "text/plain": [
              "(4, 2, 3, [7, 5])"
            ]
          },
          "metadata": {},
          "execution_count": 260
        }
      ],
      "source": [
        "tup"
      ]
    },
    {
      "cell_type": "code",
      "execution_count": 261,
      "metadata": {
        "id": "Kd-3CvGP0num"
      },
      "outputs": [],
      "source": [
        "#   +  -> concatenation\n",
        "#   *  -> repeat"
      ]
    },
    {
      "cell_type": "code",
      "execution_count": 262,
      "metadata": {
        "id": "0c6_aLY80num",
        "outputId": "5e807a96-2fee-4d8d-e25f-f16f9bdf1652",
        "colab": {
          "base_uri": "https://localhost:8080/"
        }
      },
      "outputs": [
        {
          "output_type": "stream",
          "name": "stdout",
          "text": [
            "(1, 2, 3, 4, 5, 6)\n"
          ]
        }
      ],
      "source": [
        "tup1=(1,2,3)\n",
        "tup2 = (4,5,6)\n",
        "\n",
        "print(tup1 + tup2)"
      ]
    },
    {
      "cell_type": "code",
      "execution_count": 263,
      "metadata": {
        "id": "bSKDMKTB0num",
        "outputId": "18e7aa10-8d79-45cd-fe75-05ad43217d85",
        "colab": {
          "base_uri": "https://localhost:8080/"
        }
      },
      "outputs": [
        {
          "output_type": "stream",
          "name": "stdout",
          "text": [
            "('Aja', 'Aja', 'Aja', 'Aja')\n"
          ]
        }
      ],
      "source": [
        "print((\"Aja\" ,) * 4)"
      ]
    },
    {
      "cell_type": "code",
      "execution_count": 264,
      "metadata": {
        "id": "ad43-IQv0num"
      },
      "outputs": [],
      "source": [
        "tup4 = (('y',)* 5)"
      ]
    },
    {
      "cell_type": "code",
      "execution_count": 265,
      "metadata": {
        "id": "Vikcx3ig0num",
        "outputId": "6f5dd2ea-f574-4423-d140-9af9e090a76a",
        "colab": {
          "base_uri": "https://localhost:8080/"
        }
      },
      "outputs": [
        {
          "output_type": "execute_result",
          "data": {
            "text/plain": [
              "('y', 'y', 'y', 'y', 'y')"
            ]
          },
          "metadata": {},
          "execution_count": 265
        }
      ],
      "source": [
        "tup4"
      ]
    },
    {
      "cell_type": "code",
      "execution_count": 266,
      "metadata": {
        "id": "R6r5MC6Z0nun"
      },
      "outputs": [],
      "source": [
        "tup5 = ((tup1)*2 + (\"Ajan\",))"
      ]
    },
    {
      "cell_type": "code",
      "execution_count": 267,
      "metadata": {
        "id": "7OATQPtb0nun",
        "outputId": "eed525a2-2f1d-4b3c-e49d-fcadd534678d",
        "colab": {
          "base_uri": "https://localhost:8080/"
        }
      },
      "outputs": [
        {
          "output_type": "execute_result",
          "data": {
            "text/plain": [
              "(1, 2, 3, 1, 2, 3, 'Ajan')"
            ]
          },
          "metadata": {},
          "execution_count": 267
        }
      ],
      "source": [
        "tup5"
      ]
    },
    {
      "cell_type": "markdown",
      "metadata": {
        "id": "ErPa7XL50nun"
      },
      "source": [
        "### 2. Deleting a Tuple\n",
        "\n"
      ]
    },
    {
      "cell_type": "code",
      "execution_count": 268,
      "metadata": {
        "id": "m2RRMb4k0nun",
        "outputId": "c87d7959-9d97-4817-b48c-99a87550a7af",
        "colab": {
          "base_uri": "https://localhost:8080/"
        }
      },
      "outputs": [
        {
          "output_type": "execute_result",
          "data": {
            "text/plain": [
              "(1, 2, 3, 'hello', '444', 5.6)"
            ]
          },
          "metadata": {},
          "execution_count": 268
        }
      ],
      "source": [
        "tup3"
      ]
    },
    {
      "cell_type": "code",
      "execution_count": 269,
      "metadata": {
        "id": "PDSMvCcq0nun"
      },
      "outputs": [],
      "source": [
        "#del tup3[4] ->TypeError: 'tuple' object doesn't support item deletion"
      ]
    },
    {
      "cell_type": "code",
      "execution_count": 270,
      "metadata": {
        "id": "yOyxOpRP0nun"
      },
      "outputs": [],
      "source": [
        "del tup3"
      ]
    },
    {
      "cell_type": "code",
      "execution_count": 271,
      "metadata": {
        "id": "w2U34A9B0nuo"
      },
      "outputs": [],
      "source": [
        "#tup3 deleted"
      ]
    },
    {
      "cell_type": "code",
      "execution_count": 272,
      "metadata": {
        "id": "83Tft-ZL0nuo"
      },
      "outputs": [],
      "source": [
        "tup2 = (1,2,3,[4,5,6])\n",
        "\n",
        "del tup2[3][2]"
      ]
    },
    {
      "cell_type": "code",
      "execution_count": 273,
      "metadata": {
        "id": "35ZoLmum0nuo",
        "outputId": "717ffe11-b282-4036-deff-1dc908056f42",
        "colab": {
          "base_uri": "https://localhost:8080/"
        }
      },
      "outputs": [
        {
          "output_type": "execute_result",
          "data": {
            "text/plain": [
              "(1, 2, 3, [4, 5])"
            ]
          },
          "metadata": {},
          "execution_count": 273
        }
      ],
      "source": [
        "tup2"
      ]
    },
    {
      "cell_type": "code",
      "execution_count": 273,
      "metadata": {
        "id": "tux14zJ-0nuo"
      },
      "outputs": [],
      "source": []
    },
    {
      "cell_type": "markdown",
      "metadata": {
        "id": "FPL5xKwr0nup"
      },
      "source": [
        "## Python Built-in Tuple Functions\n",
        "\n"
      ]
    },
    {
      "cell_type": "markdown",
      "metadata": {
        "id": "5aLsGMN40nup"
      },
      "source": [
        "### **`len(tuple)`** - The `len()` method returns the number of elements in the tuple."
      ]
    },
    {
      "cell_type": "code",
      "execution_count": 274,
      "metadata": {
        "id": "BiqTz8xP0nup",
        "outputId": "58506145-45c7-4a85-f8d9-c2a7abba39f4",
        "colab": {
          "base_uri": "https://localhost:8080/"
        }
      },
      "outputs": [
        {
          "output_type": "execute_result",
          "data": {
            "text/plain": [
              "4"
            ]
          },
          "metadata": {},
          "execution_count": 274
        }
      ],
      "source": [
        "t1 = (2,3,45,88)\n",
        "\n",
        "len(t1)"
      ]
    },
    {
      "cell_type": "code",
      "execution_count": 275,
      "metadata": {
        "id": "7AFdFZKL0nup",
        "outputId": "321b8875-f3dc-48e4-c765-c3ede6d48299",
        "colab": {
          "base_uri": "https://localhost:8080/"
        }
      },
      "outputs": [
        {
          "output_type": "execute_result",
          "data": {
            "text/plain": [
              "5"
            ]
          },
          "metadata": {},
          "execution_count": 275
        }
      ],
      "source": [
        "t2 = (2,3,45,88,[3,4,5])\n",
        "\n",
        "len(t2)"
      ]
    },
    {
      "cell_type": "code",
      "execution_count": 276,
      "metadata": {
        "id": "_TxVKh3z0nup",
        "outputId": "72029624-1d93-4cd2-8f43-25565c10efbd",
        "colab": {
          "base_uri": "https://localhost:8080/"
        }
      },
      "outputs": [
        {
          "output_type": "execute_result",
          "data": {
            "text/plain": [
              "6"
            ]
          },
          "metadata": {},
          "execution_count": 276
        }
      ],
      "source": [
        "t3 = (2,3,45,88,[4,4,4],(7,8,9))\n",
        "\n",
        "len(t3)"
      ]
    },
    {
      "cell_type": "markdown",
      "metadata": {
        "id": "XRGim46M0nuq"
      },
      "source": [
        "### **`max(tuple)`** - The `max()` method returns the elements from the tuple with maximum value. Type of element should be same otherwise complier throw `TypeError`."
      ]
    },
    {
      "cell_type": "code",
      "execution_count": 277,
      "metadata": {
        "id": "vcNF4vI50nuq",
        "outputId": "64e334cc-d463-470a-f752-b6b0efdd3dff",
        "colab": {
          "base_uri": "https://localhost:8080/"
        }
      },
      "outputs": [
        {
          "output_type": "execute_result",
          "data": {
            "text/plain": [
              "(2, 3, 45, 88)"
            ]
          },
          "metadata": {},
          "execution_count": 277
        }
      ],
      "source": [
        "t1"
      ]
    },
    {
      "cell_type": "code",
      "execution_count": 278,
      "metadata": {
        "id": "PfrGi1Wy0nuq",
        "outputId": "54acb26b-e8e5-4a45-857c-7076c159bdde",
        "colab": {
          "base_uri": "https://localhost:8080/"
        }
      },
      "outputs": [
        {
          "output_type": "execute_result",
          "data": {
            "text/plain": [
              "88"
            ]
          },
          "metadata": {},
          "execution_count": 278
        }
      ],
      "source": [
        "max(t1)"
      ]
    },
    {
      "cell_type": "code",
      "execution_count": 279,
      "metadata": {
        "id": "eV36x9gE0nuq"
      },
      "outputs": [],
      "source": [
        "#max(t3) -> TypeError: '>' not supported between instances of 'list' and 'tuple'"
      ]
    },
    {
      "cell_type": "code",
      "execution_count": 280,
      "metadata": {
        "id": "Wxzju98t0nuq"
      },
      "outputs": [],
      "source": [
        "tup=((1,2),(3,4),(5,6),[7,8])\n",
        "\n",
        "#max(tup) -> TypeError: '>' not supported between instances of 'list' and 'tuple'"
      ]
    },
    {
      "cell_type": "markdown",
      "metadata": {
        "id": "Kg0xZGd00nur"
      },
      "source": [
        "### **`min(tuple)`** - The `min()` method returns the elements from the tuple with minimum value. Type of element should be same otherwise complier throw `TypeError`."
      ]
    },
    {
      "cell_type": "code",
      "execution_count": 281,
      "metadata": {
        "id": "_Hfa8wQ_0nur",
        "outputId": "f8e2cd2f-583a-46ce-8bfb-299f31cfb476",
        "colab": {
          "base_uri": "https://localhost:8080/"
        }
      },
      "outputs": [
        {
          "output_type": "execute_result",
          "data": {
            "text/plain": [
              "(2, 3, 45, 88)"
            ]
          },
          "metadata": {},
          "execution_count": 281
        }
      ],
      "source": [
        "t1"
      ]
    },
    {
      "cell_type": "code",
      "execution_count": 282,
      "metadata": {
        "id": "hj5nqozr0nur",
        "outputId": "8f200169-e08f-4153-9b9f-813c087e6c47",
        "colab": {
          "base_uri": "https://localhost:8080/"
        }
      },
      "outputs": [
        {
          "output_type": "execute_result",
          "data": {
            "text/plain": [
              "2"
            ]
          },
          "metadata": {},
          "execution_count": 282
        }
      ],
      "source": [
        "min(t1)"
      ]
    },
    {
      "cell_type": "markdown",
      "metadata": {
        "id": "yAJIaDZu0nus"
      },
      "source": [
        "### **`tuple(seq)`** - The `tuple()` method converts a list of items into tuples. "
      ]
    },
    {
      "cell_type": "code",
      "execution_count": 283,
      "metadata": {
        "id": "efJfyeVy0nus",
        "outputId": "40e14eb7-aa51-46d0-f470-4c2bc793b22e",
        "colab": {
          "base_uri": "https://localhost:8080/"
        }
      },
      "outputs": [
        {
          "output_type": "stream",
          "name": "stdout",
          "text": [
            "('A', 'j', 'a', 'n', 't', 'h', 'a')\n"
          ]
        }
      ],
      "source": [
        "s=\"Ajantha\"\n",
        "\n",
        "t1 = tuple(s)\n",
        "\n",
        "print(t1)"
      ]
    },
    {
      "cell_type": "code",
      "execution_count": 284,
      "metadata": {
        "id": "mpmLmTx10nus"
      },
      "outputs": [],
      "source": [
        "list1 = [6,7,8]\n",
        "\n",
        "del list1[1]"
      ]
    },
    {
      "cell_type": "code",
      "execution_count": 285,
      "metadata": {
        "id": "JJtJc5ES0nut",
        "outputId": "4943022e-bfc3-4db0-8aea-6d5cde6478e5",
        "colab": {
          "base_uri": "https://localhost:8080/"
        }
      },
      "outputs": [
        {
          "output_type": "execute_result",
          "data": {
            "text/plain": [
              "[6, 8]"
            ]
          },
          "metadata": {},
          "execution_count": 285
        }
      ],
      "source": [
        "list1"
      ]
    },
    {
      "cell_type": "code",
      "execution_count": 286,
      "metadata": {
        "id": "Uo5jzHXh0nut",
        "outputId": "e29d273f-0b13-4631-e6cd-247b2d035a8f",
        "colab": {
          "base_uri": "https://localhost:8080/"
        }
      },
      "outputs": [
        {
          "output_type": "execute_result",
          "data": {
            "text/plain": [
              "(6, 8)"
            ]
          },
          "metadata": {},
          "execution_count": 286
        }
      ],
      "source": [
        "t2 = tuple(list1)\n",
        "t2"
      ]
    },
    {
      "cell_type": "code",
      "execution_count": 287,
      "metadata": {
        "id": "qrfG-5NR0nut"
      },
      "outputs": [],
      "source": [
        "#del t2[1] ->TypeError: 'tuple' object doesn't support item deletion"
      ]
    },
    {
      "cell_type": "code",
      "execution_count": 287,
      "metadata": {
        "id": "e5OxKYbi0nut"
      },
      "outputs": [],
      "source": []
    }
  ],
  "metadata": {
    "hide_input": false,
    "kernelspec": {
      "display_name": "Python 3 (ipykernel)",
      "language": "python",
      "name": "python3"
    },
    "language_info": {
      "codemirror_mode": {
        "name": "ipython",
        "version": 3
      },
      "file_extension": ".py",
      "mimetype": "text/x-python",
      "name": "python",
      "nbconvert_exporter": "python",
      "pygments_lexer": "ipython3",
      "version": "3.9.7"
    },
    "toc": {
      "base_numbering": 1,
      "nav_menu": {},
      "number_sections": true,
      "sideBar": true,
      "skip_h1_title": false,
      "title_cell": "Table of Contents",
      "title_sidebar": "Contents",
      "toc_cell": false,
      "toc_position": {},
      "toc_section_display": true,
      "toc_window_display": false
    },
    "varInspector": {
      "cols": {
        "lenName": 16,
        "lenType": 16,
        "lenVar": 40
      },
      "kernels_config": {
        "python": {
          "delete_cmd_postfix": "",
          "delete_cmd_prefix": "del ",
          "library": "var_list.py",
          "varRefreshCmd": "print(var_dic_list())"
        },
        "r": {
          "delete_cmd_postfix": ") ",
          "delete_cmd_prefix": "rm(",
          "library": "var_list.r",
          "varRefreshCmd": "cat(var_dic_list()) "
        }
      },
      "types_to_exclude": [
        "module",
        "function",
        "builtin_function_or_method",
        "instance",
        "_Feature"
      ],
      "window_display": false
    },
    "colab": {
      "provenance": [],
      "include_colab_link": true
    }
  },
  "nbformat": 4,
  "nbformat_minor": 0
}