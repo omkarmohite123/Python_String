{
  "cells": [
    {
      "cell_type": "markdown",
      "metadata": {
        "id": "view-in-github",
        "colab_type": "text"
      },
      "source": [
        "<a href=\"https://colab.research.google.com/github/omkarmohite123/Python_String-List-Tuple-Dictionary_for_beginners/blob/main/Python_List_for_Beginners.ipynb\" target=\"_parent\"><img src=\"https://colab.research.google.com/assets/colab-badge.svg\" alt=\"Open In Colab\"/></a>"
      ]
    },
    {
      "cell_type": "markdown",
      "metadata": {
        "id": "PCVmQc7r0qlH"
      },
      "source": [
        "# Python List\n"
      ]
    },
    {
      "cell_type": "markdown",
      "metadata": {
        "heading_collapsed": true,
        "id": "mIhQOY-z0qlJ"
      },
      "source": [
        "## What is List in Python?\n"
      ]
    },
    {
      "cell_type": "markdown",
      "metadata": {
        "id": "gWRQ0o0C0qlK"
      },
      "source": [
        "\n",
        "\n",
        "| Data types     | Type          |         |\n",
        "| :------------: | :-----------: |:------: |\n",
        "| **String**     | **immutable** |  |\n",
        "| **List**       | **mutable**   |✎|"
      ]
    },
    {
      "cell_type": "markdown",
      "metadata": {
        "id": "4rG6NgKZ0qlL"
      },
      "source": [
        "## Creating Python List\n",
        "\n",
        "\n",
        "<div>\n",
        "<img src=\"img/l0.png\" width=\"600\"/>\n",
        "</div>\n",
        "\n",
        "**Syantax:** \n",
        "\n",
        "```python\n",
        "<list_name>=[value1,value2,value3,...,valuen] \n",
        "```"
      ]
    },
    {
      "cell_type": "code",
      "execution_count": null,
      "metadata": {
        "id": "8Qbp0wWs0qlL",
        "outputId": "411039b3-4a2e-45dc-8e41-30e871d17c10"
      },
      "outputs": [
        {
          "name": "stdout",
          "output_type": "stream",
          "text": [
            "[]\n",
            "0\n"
          ]
        }
      ],
      "source": [
        "my_list = []\n",
        "\n",
        "print(my_list)\n",
        "print(len(my_list))"
      ]
    },
    {
      "cell_type": "code",
      "execution_count": null,
      "metadata": {
        "id": "eeoZN5NP0qlN",
        "outputId": "625ddd2d-c146-4c06-e321-580cdacd9aec"
      },
      "outputs": [
        {
          "name": "stdout",
          "output_type": "stream",
          "text": [
            "[1, 2, 3]\n",
            "3\n"
          ]
        }
      ],
      "source": [
        "my_list1 = [1,2,3]\n",
        "print(my_list1)\n",
        "print(len(my_list1))"
      ]
    },
    {
      "cell_type": "code",
      "execution_count": null,
      "metadata": {
        "id": "PTymEGFN0qlO",
        "outputId": "6e8fb7bc-89cf-4096-9820-fa17efb3d545"
      },
      "outputs": [
        {
          "name": "stdout",
          "output_type": "stream",
          "text": [
            "[1, 2.3, 'HI', (3+4j)]\n"
          ]
        }
      ],
      "source": [
        "list_mix = [1,2.3, \"HI\", 3+4j]\n",
        "\n",
        "print(list_mix)"
      ]
    },
    {
      "cell_type": "code",
      "execution_count": null,
      "metadata": {
        "id": "Jx4sgK7X0qlO",
        "outputId": "913c4657-eb96-4824-be74-0c4347b2bbd7"
      },
      "outputs": [
        {
          "name": "stdout",
          "output_type": "stream",
          "text": [
            "[1, 2, 3, [6, 6, 6]]\n",
            "4\n"
          ]
        }
      ],
      "source": [
        "nest_list = [1,2,3,[6,6,6]]\n",
        "print(nest_list)\n",
        "print(len(nest_list))"
      ]
    },
    {
      "cell_type": "markdown",
      "metadata": {
        "id": "qDP6IhQJ0qlO"
      },
      "source": [
        "## Access elements from a list\n",
        "\n",
        "There are various ways in which we can access the elements of a list."
      ]
    },
    {
      "cell_type": "markdown",
      "metadata": {
        "id": "275i6re00qlP"
      },
      "source": [
        "### List Index\n"
      ]
    },
    {
      "cell_type": "markdown",
      "metadata": {
        "id": "t9cmdHrc0qlP"
      },
      "source": [
        "<div>\n",
        "<img src=\"img/l6_1.png\" width=\"400\"/>\n",
        "</div>"
      ]
    },
    {
      "cell_type": "code",
      "execution_count": null,
      "metadata": {
        "id": "sYMfH62m0qlP",
        "outputId": "16a2b4a0-213f-48d4-b7eb-d733ce6c5854"
      },
      "outputs": [
        {
          "name": "stdout",
          "output_type": "stream",
          "text": [
            "p\n",
            "o\n",
            "e\n"
          ]
        }
      ],
      "source": [
        "my_List = ['p', 'r','o', 'b','e']\n",
        "\n",
        "print(my_List[0])\n",
        "print(my_List[2])\n",
        "print(my_List[4])"
      ]
    },
    {
      "cell_type": "code",
      "execution_count": null,
      "metadata": {
        "id": "xvMf7Oon0qlP",
        "outputId": "363a3597-f621-4f93-c268-0db5ab73da9d"
      },
      "outputs": [
        {
          "name": "stdout",
          "output_type": "stream",
          "text": [
            "a\n",
            "5\n"
          ]
        }
      ],
      "source": [
        "nest_li = [\"Happy\", [2, 3, 4, 5]]\n",
        "\n",
        "print(nest_li[0][1])\n",
        "print(nest_li[1][3])"
      ]
    },
    {
      "cell_type": "code",
      "execution_count": null,
      "metadata": {
        "id": "y_R2zlBY0qlP",
        "outputId": "076b4063-dfbb-4468-ce0f-84272a6e56f5"
      },
      "outputs": [
        {
          "ename": "TypeError",
          "evalue": "list indices must be integers or slices, not float",
          "output_type": "error",
          "traceback": [
            "\u001b[1;31m---------------------------------------------------------------------------\u001b[0m",
            "\u001b[1;31mTypeError\u001b[0m                                 Traceback (most recent call last)",
            "\u001b[1;32m~\\AppData\\Local\\Temp/ipykernel_3080/654333446.py\u001b[0m in \u001b[0;36m<module>\u001b[1;34m\u001b[0m\n\u001b[1;32m----> 1\u001b[1;33m \u001b[0mprint\u001b[0m\u001b[1;33m(\u001b[0m\u001b[0mmy_List\u001b[0m\u001b[1;33m[\u001b[0m\u001b[1;36m3.4\u001b[0m\u001b[1;33m]\u001b[0m\u001b[1;33m)\u001b[0m\u001b[1;33m\u001b[0m\u001b[1;33m\u001b[0m\u001b[0m\n\u001b[0m",
            "\u001b[1;31mTypeError\u001b[0m: list indices must be integers or slices, not float"
          ]
        }
      ],
      "source": [
        "print(my_List[3.4])"
      ]
    },
    {
      "cell_type": "code",
      "execution_count": null,
      "metadata": {
        "id": "iRKB8La20qlQ",
        "outputId": "4e97dac1-3a1c-4ea0-ee81-06a657e84802"
      },
      "outputs": [
        {
          "name": "stdout",
          "output_type": "stream",
          "text": [
            "e\n",
            "r\n"
          ]
        }
      ],
      "source": [
        "#my_List = ['p', 'r','o', 'b','e']\n",
        "\n",
        "print(my_List[-1])\n",
        "print(my_List[-4])"
      ]
    },
    {
      "cell_type": "code",
      "execution_count": null,
      "metadata": {
        "id": "I5xjKSp60qlQ"
      },
      "outputs": [],
      "source": []
    },
    {
      "cell_type": "markdown",
      "metadata": {
        "id": "7QKkZpDs0qlQ"
      },
      "source": [
        "### How to slice lists in Python?\n",
        "\n",
        "We can access a range of items in a list by using the slicing operator **`:`**(colon).\n",
        "\n",
        "**Syntax:**\n",
        "\n",
        "```python\n",
        "<list_name>[start : stop : step]\n",
        "```"
      ]
    },
    {
      "cell_type": "markdown",
      "metadata": {
        "id": "XSkiyDBG0qlQ"
      },
      "source": [
        "\n",
        "\n",
        "> Indented block\n",
        "\n",
        "\n",
        "<div>\n",
        "<img src=\"img/l6_2.png\" width=\"350\"/>\n",
        "</div>"
      ]
    },
    {
      "cell_type": "code",
      "execution_count": null,
      "metadata": {
        "id": "bDUEVkpk0qlQ",
        "outputId": "6593da06-3e09-4885-d18e-d3d6e7daf30e"
      },
      "outputs": [
        {
          "name": "stdout",
          "output_type": "stream",
          "text": [
            "['o', 'g', 'r']\n",
            "['p', 'r', 'o', 'g', 'r']\n",
            "['a', 'm', 'i', 'n', 'g']\n"
          ]
        }
      ],
      "source": [
        "my_new = ['p','r','o','g','r','a','m', 'i','n', 'g']\n",
        "\n",
        "print(my_new[2:5])\n",
        "print(my_new[:-5])\n",
        "print(my_new[5:])\n"
      ]
    },
    {
      "cell_type": "code",
      "execution_count": null,
      "metadata": {
        "id": "YLoTnicd0qlR",
        "outputId": "00d96f0c-2c58-4a10-d578-825c5fee18e8"
      },
      "outputs": [
        {
          "name": "stdout",
          "output_type": "stream",
          "text": [
            "['p', 'r', 'o', 'g', 'r', 'a', 'm', 'i', 'n', 'g']\n"
          ]
        }
      ],
      "source": [
        "print(my_new[:])"
      ]
    },
    {
      "cell_type": "markdown",
      "metadata": {
        "id": "A4MdJ5ZS0qlR"
      },
      "source": [
        "## Python List Operations\n",
        "\n",
        "Apart from creating and accessing elements from the list, Python allows us to perform various other operations on the list. Some common operations are given below:"
      ]
    },
    {
      "cell_type": "markdown",
      "metadata": {
        "id": "6Y-6k1I-0qlR"
      },
      "source": [
        "### Add/Change List Elements\n"
      ]
    },
    {
      "cell_type": "code",
      "execution_count": null,
      "metadata": {
        "id": "T0ySAXLO0qlR",
        "outputId": "2e578357-a4e8-4776-f4d9-5f1536831f77"
      },
      "outputs": [
        {
          "name": "stdout",
          "output_type": "stream",
          "text": [
            "[1, 4, 6, 8]\n"
          ]
        }
      ],
      "source": [
        "odd = [2,4,6,8]\n",
        "odd[0] = 1\n",
        "print(odd)"
      ]
    },
    {
      "cell_type": "code",
      "execution_count": null,
      "metadata": {
        "id": "AuRJwS6-0qlR",
        "outputId": "5bd4eee4-3cd1-46a6-9773-4f971b6b5590"
      },
      "outputs": [
        {
          "name": "stdout",
          "output_type": "stream",
          "text": [
            "[1, 3, 5, 7]\n"
          ]
        }
      ],
      "source": [
        "odd[1:4] = [3,5,7]\n",
        "\n",
        "print(odd)"
      ]
    },
    {
      "cell_type": "code",
      "execution_count": null,
      "metadata": {
        "id": "d4aztbP20qlS",
        "outputId": "cd789a89-cb75-49f7-c02e-26d149216383"
      },
      "outputs": [
        {
          "name": "stdout",
          "output_type": "stream",
          "text": [
            "[1, 3, 5, 7, 9]\n"
          ]
        }
      ],
      "source": [
        "odd.append(9)\n",
        "print(odd)"
      ]
    },
    {
      "cell_type": "code",
      "execution_count": null,
      "metadata": {
        "id": "mqxlmwfC0qlS",
        "outputId": "327f26e9-8545-43a1-82ce-0b9fedea1691"
      },
      "outputs": [
        {
          "name": "stdout",
          "output_type": "stream",
          "text": [
            "[1, 3, 5, 7, 9, 11, 13, 15]\n"
          ]
        }
      ],
      "source": [
        "odd.extend([11,13,15])\n",
        "\n",
        "print(odd)"
      ]
    },
    {
      "cell_type": "code",
      "execution_count": null,
      "metadata": {
        "id": "5fxQy0mm0qlT",
        "outputId": "04f21873-2ca3-43c4-dc6c-b17451adf7fd"
      },
      "outputs": [
        {
          "name": "stdout",
          "output_type": "stream",
          "text": [
            "[1, 3, 5, 7, 9, 11, 13, 15, ['1', 'a', 'ggg']]\n"
          ]
        }
      ],
      "source": [
        "odd.append(['1','a', 'ggg'])\n",
        "\n",
        "print(odd)"
      ]
    },
    {
      "cell_type": "markdown",
      "metadata": {
        "id": "LtUk2QmR0qlT"
      },
      "source": [
        "### Delete/Remove List Elements\n",
        "\n"
      ]
    },
    {
      "cell_type": "code",
      "execution_count": null,
      "metadata": {
        "id": "GZQEKf0C0qlU",
        "outputId": "6d7a7e04-2241-47dc-a37f-b49dab44708f"
      },
      "outputs": [
        {
          "name": "stdout",
          "output_type": "stream",
          "text": [
            "[1, 3, 5, 7, 9, 11, 13, 15, ['1', 'a', 'ggg']]\n"
          ]
        }
      ],
      "source": [
        "print(odd)"
      ]
    },
    {
      "cell_type": "code",
      "execution_count": null,
      "metadata": {
        "id": "W64ZHc9P0qlU",
        "outputId": "907908e9-77ca-4f74-ff1c-5da4d0d1cb19"
      },
      "outputs": [
        {
          "name": "stdout",
          "output_type": "stream",
          "text": [
            "[1, 3, 7, 9, 11, 13, 15, ['1', 'a', 'ggg']]\n"
          ]
        }
      ],
      "source": [
        "del odd[2]\n",
        "print(odd)"
      ]
    },
    {
      "cell_type": "code",
      "execution_count": null,
      "metadata": {
        "id": "HvcAxc9n0qlV",
        "outputId": "db746b5a-b7b9-44fd-91ec-04d826da638e"
      },
      "outputs": [
        {
          "name": "stdout",
          "output_type": "stream",
          "text": [
            "[1, 9, 11, 13, 15, ['1', 'a', 'ggg']]\n"
          ]
        }
      ],
      "source": [
        "del odd[1:3]\n",
        "print(odd)"
      ]
    },
    {
      "cell_type": "code",
      "execution_count": null,
      "metadata": {
        "id": "hNCM3DD50qlV",
        "outputId": "ed822f8f-189f-4b76-fdbd-32376b73faa7"
      },
      "outputs": [
        {
          "name": "stdout",
          "output_type": "stream",
          "text": [
            "[1, 9, 11, 13, 15]\n"
          ]
        }
      ],
      "source": [
        "del odd[5]\n",
        "print(odd)"
      ]
    },
    {
      "cell_type": "code",
      "execution_count": null,
      "metadata": {
        "id": "1WR-Bitb0qlV",
        "outputId": "4555dc9e-3d03-473e-8f84-638730338294"
      },
      "outputs": [
        {
          "ename": "NameError",
          "evalue": "name 'odd' is not defined",
          "output_type": "error",
          "traceback": [
            "\u001b[1;31m---------------------------------------------------------------------------\u001b[0m",
            "\u001b[1;31mNameError\u001b[0m                                 Traceback (most recent call last)",
            "\u001b[1;32m~\\AppData\\Local\\Temp/ipykernel_3080/232182407.py\u001b[0m in \u001b[0;36m<module>\u001b[1;34m\u001b[0m\n\u001b[0;32m      1\u001b[0m \u001b[1;32mdel\u001b[0m \u001b[0modd\u001b[0m\u001b[1;33m\u001b[0m\u001b[1;33m\u001b[0m\u001b[0m\n\u001b[1;32m----> 2\u001b[1;33m \u001b[0mprint\u001b[0m\u001b[1;33m(\u001b[0m\u001b[0modd\u001b[0m\u001b[1;33m)\u001b[0m\u001b[1;33m\u001b[0m\u001b[1;33m\u001b[0m\u001b[0m\n\u001b[0m",
            "\u001b[1;31mNameError\u001b[0m: name 'odd' is not defined"
          ]
        }
      ],
      "source": [
        "del odd\n",
        "print(odd)"
      ]
    },
    {
      "cell_type": "code",
      "execution_count": null,
      "metadata": {
        "id": "fgHi0JLr0qlV"
      },
      "outputs": [],
      "source": [
        "my_new = ['p','r','o','g','r','a','m', 'i','n', 'g']"
      ]
    },
    {
      "cell_type": "code",
      "execution_count": null,
      "metadata": {
        "id": "bwn6TY0P0qlV",
        "outputId": "cb2a4bd9-9371-4418-9f31-833659666f05"
      },
      "outputs": [
        {
          "name": "stdout",
          "output_type": "stream",
          "text": [
            "['p', 'o', 'g', 'r', 'a', 'm', 'i', 'n', 'g']\n"
          ]
        }
      ],
      "source": [
        "my_new.remove('r')\n",
        "\n",
        "print(my_new)"
      ]
    },
    {
      "cell_type": "code",
      "execution_count": null,
      "metadata": {
        "id": "fwMeIn5S0qlV",
        "outputId": "61818cba-a8d0-42bd-9db3-6ecb1ec46b9d"
      },
      "outputs": [
        {
          "name": "stdout",
          "output_type": "stream",
          "text": [
            "m\n"
          ]
        }
      ],
      "source": [
        "print(my_new.pop(5))"
      ]
    },
    {
      "cell_type": "code",
      "execution_count": null,
      "metadata": {
        "id": "jqbMoAGC0qlW",
        "outputId": "3ee6f307-59c3-41ec-b454-882b65477d14"
      },
      "outputs": [
        {
          "name": "stdout",
          "output_type": "stream",
          "text": [
            "['p', 'o', 'g', 'r', 'a', 'i', 'n', 'g']\n"
          ]
        }
      ],
      "source": [
        "print(my_new)"
      ]
    },
    {
      "cell_type": "code",
      "execution_count": null,
      "metadata": {
        "id": "gjM1Zl1b0qlW"
      },
      "outputs": [],
      "source": [
        "my_new.clear()"
      ]
    },
    {
      "cell_type": "code",
      "execution_count": null,
      "metadata": {
        "id": "SlytQyw80qlW",
        "outputId": "711daf18-028c-4845-f1ed-7b56e6bc3b73"
      },
      "outputs": [
        {
          "name": "stdout",
          "output_type": "stream",
          "text": [
            "[]\n"
          ]
        }
      ],
      "source": [
        "print(my_new)"
      ]
    },
    {
      "cell_type": "code",
      "execution_count": null,
      "metadata": {
        "id": "OvB7a8PG0qlW"
      },
      "outputs": [],
      "source": []
    },
    {
      "cell_type": "markdown",
      "metadata": {
        "id": "a6aGdq-J0qlW"
      },
      "source": [
        "##  Python Built-in List Functions\n",
        "\n",
        "Built-in functions like **`all()`**, **`any()`**, **`sorted()`**, **`min()`**, **`max()`**, **`len()`**, **`cmp()`**, **`list()`**, etc. are commonly used with dictionaries to perform different tasks.\n",
        "\n"
      ]
    },
    {
      "cell_type": "markdown",
      "metadata": {
        "id": "C_P1_3qo0qlW"
      },
      "source": [
        "### **`all(list)`** - The method all() method returns True when all elements in the given iterable are true. If not, it returns False."
      ]
    },
    {
      "cell_type": "code",
      "execution_count": null,
      "metadata": {
        "id": "ILFybaFs0qlW",
        "outputId": "2e5769fe-749b-4528-9c58-5f22de6e0fad"
      },
      "outputs": [
        {
          "name": "stdout",
          "output_type": "stream",
          "text": [
            "True\n"
          ]
        }
      ],
      "source": [
        "l=[1,3,5,4,6]\n",
        "print(all(l))"
      ]
    },
    {
      "cell_type": "code",
      "execution_count": null,
      "metadata": {
        "id": "L7Q6bQcj0qlX",
        "outputId": "ac2a906d-88f2-4497-aec1-cec521cd0d61"
      },
      "outputs": [
        {
          "name": "stdout",
          "output_type": "stream",
          "text": [
            "False\n"
          ]
        }
      ],
      "source": [
        "l=[0,False]\n",
        "print(all(l))"
      ]
    },
    {
      "cell_type": "code",
      "execution_count": null,
      "metadata": {
        "id": "2KsJpPQt0qlX",
        "outputId": "167ee76b-ad71-408f-ddf3-a9ed82e17e56"
      },
      "outputs": [
        {
          "data": {
            "text/plain": [
              "False"
            ]
          },
          "execution_count": 1,
          "metadata": {},
          "output_type": "execute_result"
        }
      ],
      "source": [
        "l=[1,2,3,4,0]\n",
        "all(l)"
      ]
    },
    {
      "cell_type": "code",
      "execution_count": null,
      "metadata": {
        "id": "OH-GnXTs0qlX",
        "outputId": "7a2f48b0-964f-469f-f186-0f1fa42ec5d0"
      },
      "outputs": [
        {
          "data": {
            "text/plain": [
              "False"
            ]
          },
          "execution_count": 2,
          "metadata": {},
          "output_type": "execute_result"
        }
      ],
      "source": [
        "l=[0, False, 5]\n",
        "all(l)"
      ]
    },
    {
      "cell_type": "code",
      "execution_count": null,
      "metadata": {
        "id": "vhhHdriT0qlX",
        "outputId": "837c8032-0554-4cc6-f902-2505b77c0c98"
      },
      "outputs": [
        {
          "name": "stdout",
          "output_type": "stream",
          "text": [
            "True\n"
          ]
        }
      ],
      "source": [
        "l=[]\n",
        "print(all(l))"
      ]
    },
    {
      "cell_type": "code",
      "execution_count": null,
      "metadata": {
        "id": "qmdSWsKI0qlX"
      },
      "outputs": [],
      "source": []
    },
    {
      "cell_type": "markdown",
      "metadata": {
        "id": "7PhRBm8B0qlY"
      },
      "source": [
        "### **`any(list)`** - any() function returns True if any element of an iterable is True. If not, any() returns False."
      ]
    },
    {
      "cell_type": "code",
      "execution_count": null,
      "metadata": {
        "id": "2ZtDCBb10qlY",
        "outputId": "05e602dd-fad8-4ac1-cc9c-9f1e946867e1"
      },
      "outputs": [
        {
          "data": {
            "text/plain": [
              "True"
            ]
          },
          "execution_count": 4,
          "metadata": {},
          "output_type": "execute_result"
        }
      ],
      "source": [
        "l=[1,2,3,4]\n",
        "any(l)"
      ]
    },
    {
      "cell_type": "code",
      "execution_count": null,
      "metadata": {
        "id": "IPPRAMdl0qlY",
        "outputId": "4b4f1fa4-f271-4a41-e92b-3f4fdc627072"
      },
      "outputs": [
        {
          "data": {
            "text/plain": [
              "False"
            ]
          },
          "execution_count": 5,
          "metadata": {},
          "output_type": "execute_result"
        }
      ],
      "source": [
        "l=[0, False]\n",
        "any(l)"
      ]
    },
    {
      "cell_type": "code",
      "execution_count": null,
      "metadata": {
        "id": "wttAvd9T0qlY",
        "outputId": "abd44104-5bf6-4689-9ec2-ff364f72c953"
      },
      "outputs": [
        {
          "data": {
            "text/plain": [
              "True"
            ]
          },
          "execution_count": 6,
          "metadata": {},
          "output_type": "execute_result"
        }
      ],
      "source": [
        "l=[0, False, 5]\n",
        "any(l)\n"
      ]
    },
    {
      "cell_type": "code",
      "execution_count": null,
      "metadata": {
        "id": "jEooYMS80qlY",
        "outputId": "24c06bb6-951a-4df6-bd21-71727d0263d8"
      },
      "outputs": [
        {
          "data": {
            "text/plain": [
              "False"
            ]
          },
          "execution_count": 7,
          "metadata": {},
          "output_type": "execute_result"
        }
      ],
      "source": [
        "l=[]\n",
        "any(l)"
      ]
    },
    {
      "cell_type": "markdown",
      "metadata": {
        "id": "9yFLBqD_0qlY"
      },
      "source": [
        "### **`min(list)`** - this method is used to get min value from the list. In Python3 lists element's type should be same otherwise compiler throw type Error. "
      ]
    },
    {
      "cell_type": "code",
      "execution_count": null,
      "metadata": {
        "id": "N4JDakY50qlZ",
        "outputId": "9a603bfd-06b5-4b20-cfed-3692010411ad"
      },
      "outputs": [
        {
          "name": "stdout",
          "output_type": "stream",
          "text": [
            "a\n"
          ]
        }
      ],
      "source": [
        "list1=['a','b', 'c']\n",
        "list2 = [1, 2,3]\n",
        "\n",
        "list3 = ['a', 'b', 1,2,3]\n",
        "\n",
        "\n",
        "print(min(list1))"
      ]
    },
    {
      "cell_type": "code",
      "execution_count": null,
      "metadata": {
        "id": "zFVZoueK0qlZ",
        "outputId": "0dbc14da-5f21-4e05-ec1c-bc0ed8599854"
      },
      "outputs": [
        {
          "name": "stdout",
          "output_type": "stream",
          "text": [
            "1\n"
          ]
        }
      ],
      "source": [
        "print(min(list2))"
      ]
    },
    {
      "cell_type": "code",
      "execution_count": null,
      "metadata": {
        "id": "rVxw-N7d0qlZ",
        "outputId": "0688fef3-c212-4844-9c13-fbe247b63391"
      },
      "outputs": [
        {
          "ename": "TypeError",
          "evalue": "'<' not supported between instances of 'int' and 'str'",
          "output_type": "error",
          "traceback": [
            "\u001b[1;31m---------------------------------------------------------------------------\u001b[0m",
            "\u001b[1;31mTypeError\u001b[0m                                 Traceback (most recent call last)",
            "\u001b[1;32m~\\AppData\\Local\\Temp/ipykernel_27356/3005776113.py\u001b[0m in \u001b[0;36m<module>\u001b[1;34m\u001b[0m\n\u001b[1;32m----> 1\u001b[1;33m \u001b[0mprint\u001b[0m\u001b[1;33m(\u001b[0m\u001b[0mmin\u001b[0m\u001b[1;33m(\u001b[0m\u001b[0mlist3\u001b[0m\u001b[1;33m)\u001b[0m\u001b[1;33m)\u001b[0m\u001b[1;33m\u001b[0m\u001b[1;33m\u001b[0m\u001b[0m\n\u001b[0m",
            "\u001b[1;31mTypeError\u001b[0m: '<' not supported between instances of 'int' and 'str'"
          ]
        }
      ],
      "source": [
        "print(min(list3))"
      ]
    },
    {
      "cell_type": "markdown",
      "metadata": {
        "id": "R4wzFCHv0qlZ"
      },
      "source": [
        "### **`max(list)`** - The max() method returns the elements from the list with maximum value."
      ]
    },
    {
      "cell_type": "code",
      "execution_count": null,
      "metadata": {
        "id": "ZHwZtN1u0qlZ",
        "outputId": "55f17069-a155-4de1-f88c-a0e7e46123e0"
      },
      "outputs": [
        {
          "name": "stdout",
          "output_type": "stream",
          "text": [
            "c\n"
          ]
        }
      ],
      "source": [
        "print(max(list1))"
      ]
    },
    {
      "cell_type": "code",
      "execution_count": null,
      "metadata": {
        "id": "k1MSx-tf0qlZ",
        "outputId": "919d7ced-099b-4c6d-9304-3f43789f96ec"
      },
      "outputs": [
        {
          "name": "stdout",
          "output_type": "stream",
          "text": [
            "3\n"
          ]
        }
      ],
      "source": [
        "print(max(list2))"
      ]
    },
    {
      "cell_type": "code",
      "execution_count": null,
      "metadata": {
        "id": "wMeglN9P0qla",
        "outputId": "ea0b6e27-33ae-416f-e6a8-70434d0b16b4"
      },
      "outputs": [
        {
          "ename": "TypeError",
          "evalue": "'>' not supported between instances of 'int' and 'str'",
          "output_type": "error",
          "traceback": [
            "\u001b[1;31m---------------------------------------------------------------------------\u001b[0m",
            "\u001b[1;31mTypeError\u001b[0m                                 Traceback (most recent call last)",
            "\u001b[1;32m~\\AppData\\Local\\Temp/ipykernel_27356/3034918951.py\u001b[0m in \u001b[0;36m<module>\u001b[1;34m\u001b[0m\n\u001b[1;32m----> 1\u001b[1;33m \u001b[0mprint\u001b[0m\u001b[1;33m(\u001b[0m\u001b[0mmax\u001b[0m\u001b[1;33m(\u001b[0m\u001b[0mlist3\u001b[0m\u001b[1;33m)\u001b[0m\u001b[1;33m)\u001b[0m\u001b[1;33m\u001b[0m\u001b[1;33m\u001b[0m\u001b[0m\n\u001b[0m",
            "\u001b[1;31mTypeError\u001b[0m: '>' not supported between instances of 'int' and 'str'"
          ]
        }
      ],
      "source": [
        "print(max(list3))"
      ]
    },
    {
      "cell_type": "markdown",
      "metadata": {
        "id": "GvFHvLM30qla"
      },
      "source": [
        "### **`len(list)`** - The len() method returns the number of elements in the list."
      ]
    },
    {
      "cell_type": "code",
      "execution_count": null,
      "metadata": {
        "id": "qpTFrBjV0qla",
        "outputId": "d08c16c7-fbc4-474b-9bd3-fa6301fd8e02"
      },
      "outputs": [
        {
          "name": "stdout",
          "output_type": "stream",
          "text": [
            "3\n"
          ]
        }
      ],
      "source": [
        "print(len(list1))"
      ]
    },
    {
      "cell_type": "code",
      "execution_count": null,
      "metadata": {
        "id": "_70NV_jL0qla",
        "outputId": "a3ba93ac-4d6f-41c0-b323-90eebc60b438"
      },
      "outputs": [
        {
          "name": "stdout",
          "output_type": "stream",
          "text": [
            "3\n"
          ]
        }
      ],
      "source": [
        "print(len(list2))"
      ]
    },
    {
      "cell_type": "code",
      "execution_count": null,
      "metadata": {
        "id": "RYZP19HD0qla",
        "outputId": "8bb991b3-cefa-4d93-a4d5-767c8acd782c"
      },
      "outputs": [
        {
          "name": "stdout",
          "output_type": "stream",
          "text": [
            "5\n"
          ]
        }
      ],
      "source": [
        "print(len(list3))"
      ]
    },
    {
      "cell_type": "code",
      "execution_count": null,
      "metadata": {
        "id": "IFlhErH20qla"
      },
      "outputs": [],
      "source": []
    },
    {
      "cell_type": "markdown",
      "metadata": {
        "id": "XEgqxBXC0qlb"
      },
      "source": [
        "## Python List Methods\n",
        "\n",
        "Methods that are available with list objects in Python programming are tabulated below. Some of the methods have already been used above.\n"
      ]
    },
    {
      "cell_type": "markdown",
      "metadata": {
        "id": "iHS2dh700qlb"
      },
      "source": [
        "### **`append()`** - The `append()` method adds an item to the end of the list."
      ]
    },
    {
      "cell_type": "code",
      "execution_count": null,
      "metadata": {
        "id": "tYudAOBL0qlb"
      },
      "outputs": [],
      "source": [
        "list1 = [1,2,3]\n",
        "list1.append(5)"
      ]
    },
    {
      "cell_type": "code",
      "execution_count": null,
      "metadata": {
        "id": "IsOtidgj0qlb",
        "outputId": "491f24b8-5e1c-4a3b-c39e-97f1a6c739ce"
      },
      "outputs": [
        {
          "data": {
            "text/plain": [
              "[1, 2, 3, 5]"
            ]
          },
          "execution_count": 18,
          "metadata": {},
          "output_type": "execute_result"
        }
      ],
      "source": [
        "list1"
      ]
    },
    {
      "cell_type": "code",
      "execution_count": null,
      "metadata": {
        "id": "der9e08b0qlb",
        "outputId": "972d609a-1fb3-437d-cf60-d656f3a0e267"
      },
      "outputs": [
        {
          "data": {
            "text/plain": [
              "[1, 2, 3, 5, 'Happy']"
            ]
          },
          "execution_count": 19,
          "metadata": {},
          "output_type": "execute_result"
        }
      ],
      "source": [
        "list1.append(\"Happy\")\n",
        "list1"
      ]
    },
    {
      "cell_type": "code",
      "execution_count": null,
      "metadata": {
        "id": "x0cqag-D0qlb",
        "outputId": "96299b2b-a5ba-4877-c723-c630ffc1da91"
      },
      "outputs": [
        {
          "data": {
            "text/plain": [
              "[1, 2, 3, 5, 'Happy', [7, 7, 7, 7]]"
            ]
          },
          "execution_count": 20,
          "metadata": {},
          "output_type": "execute_result"
        }
      ],
      "source": [
        "list1.append([7,7,7,7,])\n",
        "list1"
      ]
    },
    {
      "cell_type": "code",
      "execution_count": null,
      "metadata": {
        "id": "cmuEtHbw0qlb"
      },
      "outputs": [],
      "source": [
        "list1 = [1,2,3]\n",
        "list2=[5,6,7]\n",
        "list1.append(list2)"
      ]
    },
    {
      "cell_type": "markdown",
      "metadata": {
        "id": "tBiwbXdA0qlc"
      },
      "source": [
        "list1"
      ]
    },
    {
      "cell_type": "code",
      "execution_count": null,
      "metadata": {
        "id": "Z9As7F0E0qlc",
        "outputId": "00e8ad34-649a-46f3-cd73-6ac8df0fea70"
      },
      "outputs": [
        {
          "data": {
            "text/plain": [
              "[1, 2, 3, [5, 6, 7]]"
            ]
          },
          "execution_count": 67,
          "metadata": {},
          "output_type": "execute_result"
        }
      ],
      "source": [
        "list1"
      ]
    },
    {
      "cell_type": "code",
      "execution_count": null,
      "metadata": {
        "id": "_BRlbFqi0qlc"
      },
      "outputs": [],
      "source": []
    },
    {
      "cell_type": "markdown",
      "metadata": {
        "id": "PT84wwii0qlc"
      },
      "source": [
        "### **`extend()`** - The `extend()` method adds all the elements of an iterable (list, tuple, string etc.) to the end of the list."
      ]
    },
    {
      "cell_type": "code",
      "execution_count": null,
      "metadata": {
        "id": "OoJZ0Sgs0qlc",
        "outputId": "43f47f09-37a0-40dd-ed29-7152edaabe86"
      },
      "outputs": [
        {
          "data": {
            "text/plain": [
              "[1, 2, 3]"
            ]
          },
          "execution_count": 21,
          "metadata": {},
          "output_type": "execute_result"
        }
      ],
      "source": [
        "list2 = [1,2,3]\n",
        "list2"
      ]
    },
    {
      "cell_type": "code",
      "execution_count": null,
      "metadata": {
        "id": "HoBxfC-50qld",
        "outputId": "657c66ff-8fe7-4693-8d8a-36774a1ecf74"
      },
      "outputs": [
        {
          "data": {
            "text/plain": [
              "[1, 2, 3, 4, 5, 6]"
            ]
          },
          "execution_count": 22,
          "metadata": {},
          "output_type": "execute_result"
        }
      ],
      "source": [
        "list2.extend([4,5,6])\n",
        "list2"
      ]
    },
    {
      "cell_type": "code",
      "execution_count": null,
      "metadata": {
        "id": "SxzEwOdI0qld",
        "outputId": "d99d7e51-1265-4d0f-a6a5-816970236347"
      },
      "outputs": [
        {
          "data": {
            "text/plain": [
              "[1, 2, 3, 4, 5, 6, [2, 2, 2], [3, 3, 3], 4]"
            ]
          },
          "execution_count": 23,
          "metadata": {},
          "output_type": "execute_result"
        }
      ],
      "source": [
        "list2.extend([[2,2,2],[3,3,3],4])\n",
        "list2"
      ]
    },
    {
      "cell_type": "markdown",
      "metadata": {
        "id": "tevTqbVC0qld"
      },
      "source": [
        "### **`insert()`** - The `insert()` method inserts an element to the list at the specified index."
      ]
    },
    {
      "cell_type": "code",
      "execution_count": null,
      "metadata": {
        "id": "u4CuOGF30qld",
        "outputId": "300c74b4-45fb-4bc9-cddf-8f57ff3bdaa9"
      },
      "outputs": [
        {
          "data": {
            "text/plain": [
              "['hi', 'hello', 'welcome', 'all']"
            ]
          },
          "execution_count": 24,
          "metadata": {},
          "output_type": "execute_result"
        }
      ],
      "source": [
        "list3 = ['hi', 'hello', 'welcome', 'all']\n",
        "list3"
      ]
    },
    {
      "cell_type": "code",
      "execution_count": null,
      "metadata": {
        "id": "Vg4aUSi60qld",
        "outputId": "d03385c0-fd65-46c9-e294-71cdb55dfc02"
      },
      "outputs": [
        {
          "data": {
            "text/plain": [
              "['hi', 'hello', 'Ajantha', 'welcome', 'all']"
            ]
          },
          "execution_count": 25,
          "metadata": {},
          "output_type": "execute_result"
        }
      ],
      "source": [
        "list3.insert(2, 'Ajantha')\n",
        "\n",
        "list3"
      ]
    },
    {
      "cell_type": "code",
      "execution_count": null,
      "metadata": {
        "id": "2pVf0rH80qld",
        "outputId": "08cdd7ad-6807-445e-8992-2fe2a317e47d"
      },
      "outputs": [
        {
          "data": {
            "text/plain": [
              "['hi', 'hello', 66, 'Ajantha', 'welcome', 'all']"
            ]
          },
          "execution_count": 26,
          "metadata": {},
          "output_type": "execute_result"
        }
      ],
      "source": [
        "list3.insert(2, 66)\n",
        "\n",
        "list3"
      ]
    },
    {
      "cell_type": "code",
      "execution_count": null,
      "metadata": {
        "id": "djZgRfpd0qle"
      },
      "outputs": [],
      "source": [
        "list1=[1,2,3]\n",
        "list2=[4,5,6]\n",
        "\n"
      ]
    },
    {
      "cell_type": "code",
      "execution_count": null,
      "metadata": {
        "id": "GV-8vQWH0qle"
      },
      "outputs": [],
      "source": [
        "list3.insert(0,list1)"
      ]
    },
    {
      "cell_type": "code",
      "execution_count": null,
      "metadata": {
        "id": "tDVjvXkW0qle",
        "outputId": "ac6b5073-807d-4446-c763-301561cdbd16"
      },
      "outputs": [
        {
          "data": {
            "text/plain": [
              "[[1, 2, 3], 'hi', 'hello', 'welcome']"
            ]
          },
          "execution_count": 71,
          "metadata": {},
          "output_type": "execute_result"
        }
      ],
      "source": [
        "list3"
      ]
    },
    {
      "cell_type": "markdown",
      "metadata": {
        "id": "kwKdqFKd0qle"
      },
      "source": [
        "### **`remove()`** - The `remove()` method removes the first matching element (which is passed as an argument) from the list."
      ]
    },
    {
      "cell_type": "code",
      "execution_count": null,
      "metadata": {
        "id": "kM0WtdoY0qlf",
        "outputId": "8f18dd91-f189-47f4-96d4-b36777147efb"
      },
      "outputs": [
        {
          "data": {
            "text/plain": [
              "['hi', 'hello', 66, 'Ajantha', 'welcome', 'all']"
            ]
          },
          "execution_count": 27,
          "metadata": {},
          "output_type": "execute_result"
        }
      ],
      "source": [
        "list3"
      ]
    },
    {
      "cell_type": "code",
      "execution_count": null,
      "metadata": {
        "id": "IgipvC960qlf"
      },
      "outputs": [],
      "source": [
        "list3.remove(66)"
      ]
    },
    {
      "cell_type": "code",
      "execution_count": null,
      "metadata": {
        "id": "fdvswDMj0qlf",
        "outputId": "2c37fea8-6eff-40a5-d13e-32eabf09849f"
      },
      "outputs": [
        {
          "data": {
            "text/plain": [
              "['hi', 'hello', 'Ajantha', 'welcome', 'all']"
            ]
          },
          "execution_count": 29,
          "metadata": {},
          "output_type": "execute_result"
        }
      ],
      "source": [
        "list3"
      ]
    },
    {
      "cell_type": "code",
      "execution_count": null,
      "metadata": {
        "id": "nQRfezMy0qlf"
      },
      "outputs": [],
      "source": []
    },
    {
      "cell_type": "markdown",
      "metadata": {
        "id": "_5XVMBOL0qlf"
      },
      "source": [
        "### **`pop()`** - The `pop()` method removes the item at the given index from the list and returns the removed item."
      ]
    },
    {
      "cell_type": "code",
      "execution_count": null,
      "metadata": {
        "id": "GLueElCb0qlf",
        "outputId": "df48d0ad-295b-4a5c-d7df-1fd491834d94"
      },
      "outputs": [
        {
          "data": {
            "text/plain": [
              "['hi', 'hello', 'Ajantha', 'welcome', 'all']"
            ]
          },
          "execution_count": 30,
          "metadata": {},
          "output_type": "execute_result"
        }
      ],
      "source": [
        "list3"
      ]
    },
    {
      "cell_type": "code",
      "execution_count": null,
      "metadata": {
        "id": "hbjCsgV20qlf",
        "outputId": "aa21ebcd-a89b-44af-dc9f-027f5b5db8b8"
      },
      "outputs": [
        {
          "data": {
            "text/plain": [
              "'all'"
            ]
          },
          "execution_count": 31,
          "metadata": {},
          "output_type": "execute_result"
        }
      ],
      "source": [
        "list3.pop()"
      ]
    },
    {
      "cell_type": "code",
      "execution_count": null,
      "metadata": {
        "id": "z4hsGyTO0qlg",
        "outputId": "769292f4-cd13-4059-87de-0a681ba61f3c"
      },
      "outputs": [
        {
          "data": {
            "text/plain": [
              "['hi', 'hello', 'Ajantha', 'welcome']"
            ]
          },
          "execution_count": 32,
          "metadata": {},
          "output_type": "execute_result"
        }
      ],
      "source": [
        "list3"
      ]
    },
    {
      "cell_type": "code",
      "execution_count": null,
      "metadata": {
        "id": "wqs67xBc0qlg",
        "outputId": "e936f6d9-578b-432b-ee69-f1f0f65b3e1d"
      },
      "outputs": [
        {
          "data": {
            "text/plain": [
              "'Ajantha'"
            ]
          },
          "execution_count": 33,
          "metadata": {},
          "output_type": "execute_result"
        }
      ],
      "source": [
        "list3.pop(2)\n"
      ]
    },
    {
      "cell_type": "code",
      "execution_count": null,
      "metadata": {
        "id": "fTeT8-tw0qlg",
        "outputId": "d27e1b7d-9091-4677-f7e8-e20748ac6547"
      },
      "outputs": [
        {
          "data": {
            "text/plain": [
              "['hi', 'hello', 'welcome']"
            ]
          },
          "execution_count": 34,
          "metadata": {},
          "output_type": "execute_result"
        }
      ],
      "source": [
        "list3"
      ]
    },
    {
      "cell_type": "code",
      "execution_count": null,
      "metadata": {
        "id": "oq7-ocVV0qlg"
      },
      "outputs": [],
      "source": []
    },
    {
      "cell_type": "markdown",
      "metadata": {
        "id": "7btMsJ960qlg"
      },
      "source": [
        "### **`clear()`** - The `clear()` method removes all items from the list."
      ]
    },
    {
      "cell_type": "code",
      "execution_count": null,
      "metadata": {
        "id": "yzSA2Hs10qlg",
        "outputId": "284bc962-751a-4031-8c9e-be13fbb3a1bc"
      },
      "outputs": [
        {
          "data": {
            "text/plain": [
              "[1, 2, 3, 4, 5, 6, [2, 2, 2], [3, 3, 3], 4]"
            ]
          },
          "execution_count": 35,
          "metadata": {},
          "output_type": "execute_result"
        }
      ],
      "source": [
        "list2"
      ]
    },
    {
      "cell_type": "code",
      "execution_count": null,
      "metadata": {
        "id": "HS8To1f50qlh"
      },
      "outputs": [],
      "source": [
        "list2.clear()"
      ]
    },
    {
      "cell_type": "code",
      "execution_count": null,
      "metadata": {
        "id": "OKF9KDJb0qlh",
        "outputId": "008566b6-f4fe-4113-a417-791756082510"
      },
      "outputs": [
        {
          "data": {
            "text/plain": [
              "[]"
            ]
          },
          "execution_count": 37,
          "metadata": {},
          "output_type": "execute_result"
        }
      ],
      "source": [
        "list2"
      ]
    },
    {
      "cell_type": "code",
      "execution_count": null,
      "metadata": {
        "id": "dcprrRER0qlh",
        "outputId": "7865bd3e-ee29-4f7d-e100-c8b101489e8f"
      },
      "outputs": [
        {
          "ename": "IndexError",
          "evalue": "pop from empty list",
          "output_type": "error",
          "traceback": [
            "\u001b[1;31m---------------------------------------------------------------------------\u001b[0m",
            "\u001b[1;31mIndexError\u001b[0m                                Traceback (most recent call last)",
            "\u001b[1;32m~\\AppData\\Local\\Temp/ipykernel_27356/722370783.py\u001b[0m in \u001b[0;36m<module>\u001b[1;34m\u001b[0m\n\u001b[1;32m----> 1\u001b[1;33m \u001b[0mlist2\u001b[0m\u001b[1;33m.\u001b[0m\u001b[0mpop\u001b[0m\u001b[1;33m(\u001b[0m\u001b[1;33m)\u001b[0m\u001b[1;33m\u001b[0m\u001b[1;33m\u001b[0m\u001b[0m\n\u001b[0m",
            "\u001b[1;31mIndexError\u001b[0m: pop from empty list"
          ]
        }
      ],
      "source": [
        "list2.pop()"
      ]
    },
    {
      "cell_type": "code",
      "execution_count": null,
      "metadata": {
        "id": "XqVzhLu50qlh"
      },
      "outputs": [],
      "source": []
    },
    {
      "cell_type": "markdown",
      "metadata": {
        "id": "tXmdlyJ70qlh"
      },
      "source": [
        "### **`index()`** - The `index()` method returns the index of the specified element in the list."
      ]
    },
    {
      "cell_type": "code",
      "execution_count": null,
      "metadata": {
        "id": "Q-L_GpZ00qlh",
        "outputId": "ee36097e-68f4-4de6-e605-514f8708e9a1"
      },
      "outputs": [
        {
          "data": {
            "text/plain": [
              "1"
            ]
          },
          "execution_count": 39,
          "metadata": {},
          "output_type": "execute_result"
        }
      ],
      "source": [
        "list1=[1,2,3,4,5,6,7]\n",
        "\n",
        "list1.index(2)"
      ]
    },
    {
      "cell_type": "code",
      "execution_count": null,
      "metadata": {
        "id": "bvp_cB0C0qlh"
      },
      "outputs": [],
      "source": [
        "list2=['hi', 'hello', 'welcome']"
      ]
    },
    {
      "cell_type": "code",
      "execution_count": null,
      "metadata": {
        "id": "YDvkw5Cf0qli",
        "outputId": "62528074-1525-49c8-ce52-dccdaaa3e6aa"
      },
      "outputs": [
        {
          "ename": "ValueError",
          "evalue": "'Hello' is not in list",
          "output_type": "error",
          "traceback": [
            "\u001b[1;31m---------------------------------------------------------------------------\u001b[0m",
            "\u001b[1;31mValueError\u001b[0m                                Traceback (most recent call last)",
            "\u001b[1;32m~\\AppData\\Local\\Temp/ipykernel_27356/2233720512.py\u001b[0m in \u001b[0;36m<module>\u001b[1;34m\u001b[0m\n\u001b[1;32m----> 1\u001b[1;33m \u001b[0mlist2\u001b[0m\u001b[1;33m.\u001b[0m\u001b[0mindex\u001b[0m\u001b[1;33m(\u001b[0m\u001b[1;34m'Hello'\u001b[0m\u001b[1;33m)\u001b[0m\u001b[1;33m\u001b[0m\u001b[1;33m\u001b[0m\u001b[0m\n\u001b[0m",
            "\u001b[1;31mValueError\u001b[0m: 'Hello' is not in list"
          ]
        }
      ],
      "source": [
        "list2.index('Hello')"
      ]
    },
    {
      "cell_type": "code",
      "execution_count": null,
      "metadata": {
        "id": "B2Q1ZzOf0qli"
      },
      "outputs": [],
      "source": []
    },
    {
      "cell_type": "markdown",
      "metadata": {
        "id": "eELhweq_0qli"
      },
      "source": [
        "### **`count()`** - The `count()` method returns the number of times the specified element appears in the list."
      ]
    },
    {
      "cell_type": "code",
      "execution_count": null,
      "metadata": {
        "id": "Z2hg9F5I0qli"
      },
      "outputs": [],
      "source": [
        "list_2 = [1,1,1,3,5,6,7,7,7,8,8]"
      ]
    },
    {
      "cell_type": "code",
      "execution_count": null,
      "metadata": {
        "id": "o-qes4MC0qli",
        "outputId": "e5f2260c-50f6-4506-e6ee-46235a88acbe"
      },
      "outputs": [
        {
          "data": {
            "text/plain": [
              "2"
            ]
          },
          "execution_count": 45,
          "metadata": {},
          "output_type": "execute_result"
        }
      ],
      "source": [
        "list_2.count(8)"
      ]
    },
    {
      "cell_type": "code",
      "execution_count": null,
      "metadata": {
        "id": "ZsQIX4DG0qli",
        "outputId": "7932d6b4-a83e-4f42-9afd-612b4cd48f41"
      },
      "outputs": [
        {
          "data": {
            "text/plain": [
              "2"
            ]
          },
          "execution_count": 48,
          "metadata": {},
          "output_type": "execute_result"
        }
      ],
      "source": [
        "list_2 = [1,1,1,'a','a','b','c',6,7,7,7,8,8]\n",
        "\n",
        "list_2.count('a')\n"
      ]
    },
    {
      "cell_type": "markdown",
      "metadata": {
        "id": "x5vjrijH0qlj"
      },
      "source": [
        "### **`sort() `** - The `sort()` method sorts the elements of a given list in a specific ascending or descending order."
      ]
    },
    {
      "cell_type": "code",
      "execution_count": null,
      "metadata": {
        "id": "yPYgngag0qlj",
        "outputId": "d5312d43-60ad-40c7-a4cd-aade40a60fb1"
      },
      "outputs": [
        {
          "data": {
            "text/plain": [
              "[11, 21, 22, 32, 33, 43, 44, 55, 66]"
            ]
          },
          "execution_count": 49,
          "metadata": {},
          "output_type": "execute_result"
        }
      ],
      "source": [
        "list_s = [22,33,44,55,66,11,21,32,43]\n",
        "\n",
        "list_s.sort()\n",
        "list_s"
      ]
    },
    {
      "cell_type": "code",
      "execution_count": null,
      "metadata": {
        "id": "7rrlJrMa0qlj",
        "outputId": "25fcd79b-d2fe-42ff-c56d-cc7992f1cd84"
      },
      "outputs": [
        {
          "data": {
            "text/plain": [
              "[66, 55, 44, 43, 33, 32, 22, 21, 11]"
            ]
          },
          "execution_count": 50,
          "metadata": {},
          "output_type": "execute_result"
        }
      ],
      "source": [
        "list_s.sort(reverse =True)\n",
        "list_s"
      ]
    },
    {
      "cell_type": "code",
      "execution_count": null,
      "metadata": {
        "id": "TWcPVVw-0qlj",
        "outputId": "3eb1f4e2-f134-410a-d279-253a13eb3de0"
      },
      "outputs": [
        {
          "data": {
            "text/plain": [
              "['a', 'abc', 'b', 'bb', 'bc', 'x', 'y', 'z']"
            ]
          },
          "execution_count": 52,
          "metadata": {},
          "output_type": "execute_result"
        }
      ],
      "source": [
        "list_s=['z', 'a', 'b', 'x', 'y','abc', 'bc', 'bb']\n",
        "\n",
        "list_s.sort()\n",
        "list_s"
      ]
    },
    {
      "cell_type": "code",
      "execution_count": null,
      "metadata": {
        "id": "P2wLF_P80qlj",
        "outputId": "38aa9d43-cf06-4b03-a2a0-15d506ccb4e8"
      },
      "outputs": [
        {
          "ename": "TypeError",
          "evalue": "'<' not supported between instances of 'str' and 'int'",
          "output_type": "error",
          "traceback": [
            "\u001b[1;31m---------------------------------------------------------------------------\u001b[0m",
            "\u001b[1;31mTypeError\u001b[0m                                 Traceback (most recent call last)",
            "\u001b[1;32m~\\AppData\\Local\\Temp/ipykernel_27356/1866344683.py\u001b[0m in \u001b[0;36m<module>\u001b[1;34m\u001b[0m\n\u001b[0;32m      1\u001b[0m \u001b[0mlist_int\u001b[0m\u001b[1;33m=\u001b[0m\u001b[1;33m[\u001b[0m\u001b[1;36m1\u001b[0m\u001b[1;33m,\u001b[0m\u001b[1;36m2\u001b[0m\u001b[1;33m,\u001b[0m\u001b[1;36m3\u001b[0m\u001b[1;33m,\u001b[0m\u001b[1;34m'a'\u001b[0m\u001b[1;33m,\u001b[0m \u001b[1;34m'b'\u001b[0m\u001b[1;33m,\u001b[0m \u001b[1;34m'c'\u001b[0m\u001b[1;33m]\u001b[0m\u001b[1;33m\u001b[0m\u001b[1;33m\u001b[0m\u001b[0m\n\u001b[1;32m----> 2\u001b[1;33m \u001b[0mlist_int\u001b[0m\u001b[1;33m.\u001b[0m\u001b[0msort\u001b[0m\u001b[1;33m(\u001b[0m\u001b[1;33m)\u001b[0m\u001b[1;33m\u001b[0m\u001b[1;33m\u001b[0m\u001b[0m\n\u001b[0m\u001b[0;32m      3\u001b[0m \u001b[0mlist_int\u001b[0m\u001b[1;33m\u001b[0m\u001b[1;33m\u001b[0m\u001b[0m\n",
            "\u001b[1;31mTypeError\u001b[0m: '<' not supported between instances of 'str' and 'int'"
          ]
        }
      ],
      "source": [
        "list_int=[1,2,3,'a', 'b', 'c']\n",
        "list_int.sort()\n",
        "list_int"
      ]
    },
    {
      "cell_type": "markdown",
      "metadata": {
        "id": "0qi-PpCO0qlj"
      },
      "source": [
        "### **`reverse() `** - The `reverse()` method reverses the elements of the list."
      ]
    },
    {
      "cell_type": "code",
      "execution_count": null,
      "metadata": {
        "id": "nTSSAHyC0qlk"
      },
      "outputs": [],
      "source": [
        "list_int=[1,2,3,'a', 'b', 'c']"
      ]
    },
    {
      "cell_type": "code",
      "execution_count": null,
      "metadata": {
        "id": "GtGfeTwr0qlk",
        "outputId": "51e27ce5-8da0-461c-a0b0-ddc9e93e6885"
      },
      "outputs": [
        {
          "data": {
            "text/plain": [
              "['c', 'b', 'a', 3, 2, 1]"
            ]
          },
          "execution_count": 56,
          "metadata": {},
          "output_type": "execute_result"
        }
      ],
      "source": [
        "list_int.reverse()\n",
        "list_int"
      ]
    },
    {
      "cell_type": "markdown",
      "metadata": {
        "id": "s3YsMgf70qlk"
      },
      "source": [
        "### **`copy() `** - The `copy()` method returns a shallow copy of the list."
      ]
    },
    {
      "cell_type": "code",
      "execution_count": null,
      "metadata": {
        "id": "5fms0XvN0qlk"
      },
      "outputs": [],
      "source": [
        "list_int=[1,2,3,'a', 'b', 'c']"
      ]
    },
    {
      "cell_type": "code",
      "execution_count": null,
      "metadata": {
        "id": "tGH7WPIf0qlk"
      },
      "outputs": [],
      "source": [
        "list_mix = list_int.copy()"
      ]
    },
    {
      "cell_type": "code",
      "execution_count": null,
      "metadata": {
        "id": "VIAkcqJF0qlk",
        "outputId": "4da1925f-b33f-4a90-d053-71abd27745b6"
      },
      "outputs": [
        {
          "data": {
            "text/plain": [
              "[1, 2, 3, 'a', 'b', 'c']"
            ]
          },
          "execution_count": 59,
          "metadata": {},
          "output_type": "execute_result"
        }
      ],
      "source": [
        "list_mix"
      ]
    },
    {
      "cell_type": "code",
      "execution_count": null,
      "metadata": {
        "id": "qToW1o7l0qlk"
      },
      "outputs": [],
      "source": [
        "list_mix1 = list_int"
      ]
    },
    {
      "cell_type": "code",
      "execution_count": null,
      "metadata": {
        "id": "raytRSZT0qll",
        "outputId": "d721c1f2-d6da-407d-8604-52c99270dcb0"
      },
      "outputs": [
        {
          "data": {
            "text/plain": [
              "[1, 2, 3, 'a', 'b', 'c']"
            ]
          },
          "execution_count": 61,
          "metadata": {},
          "output_type": "execute_result"
        }
      ],
      "source": [
        "list_mix1"
      ]
    },
    {
      "cell_type": "code",
      "execution_count": null,
      "metadata": {
        "id": "ssFUOTR80qll"
      },
      "outputs": [],
      "source": [
        "list_mix = list_int.copy()"
      ]
    },
    {
      "cell_type": "code",
      "execution_count": null,
      "metadata": {
        "id": "C3DRfLYP0qll",
        "outputId": "a930f753-0166-4490-ac6d-a8dfa54d4c71"
      },
      "outputs": [
        {
          "data": {
            "text/plain": [
              "[1, 2, 3, 'a', 'b', 'c']"
            ]
          },
          "execution_count": 63,
          "metadata": {},
          "output_type": "execute_result"
        }
      ],
      "source": [
        "list_mix"
      ]
    },
    {
      "cell_type": "code",
      "execution_count": null,
      "metadata": {
        "id": "6vLkwrAw0qll"
      },
      "outputs": [],
      "source": [
        "list_mix1 = list_int"
      ]
    },
    {
      "cell_type": "code",
      "execution_count": null,
      "metadata": {
        "id": "83oIZ2nf0qll",
        "outputId": "257cc6cc-3ccb-42c9-e17f-18a851720be7"
      },
      "outputs": [
        {
          "data": {
            "text/plain": [
              "[1, 2, 3, 'a', 'b', 'c']"
            ]
          },
          "execution_count": 65,
          "metadata": {},
          "output_type": "execute_result"
        }
      ],
      "source": [
        "list_mix1"
      ]
    },
    {
      "cell_type": "code",
      "execution_count": null,
      "metadata": {
        "id": "D1L9kI-W0qll"
      },
      "outputs": [],
      "source": []
    }
  ],
  "metadata": {
    "hide_input": false,
    "kernelspec": {
      "display_name": "Python 3 (ipykernel)",
      "language": "python",
      "name": "python3"
    },
    "language_info": {
      "codemirror_mode": {
        "name": "ipython",
        "version": 3
      },
      "file_extension": ".py",
      "mimetype": "text/x-python",
      "name": "python",
      "nbconvert_exporter": "python",
      "pygments_lexer": "ipython3",
      "version": "3.9.7"
    },
    "toc": {
      "base_numbering": 1,
      "nav_menu": {},
      "number_sections": true,
      "sideBar": true,
      "skip_h1_title": false,
      "title_cell": "Table of Contents",
      "title_sidebar": "Contents",
      "toc_cell": false,
      "toc_position": {},
      "toc_section_display": true,
      "toc_window_display": false
    },
    "varInspector": {
      "cols": {
        "lenName": 16,
        "lenType": 16,
        "lenVar": 40
      },
      "kernels_config": {
        "python": {
          "delete_cmd_postfix": "",
          "delete_cmd_prefix": "del ",
          "library": "var_list.py",
          "varRefreshCmd": "print(var_dic_list())"
        },
        "r": {
          "delete_cmd_postfix": ") ",
          "delete_cmd_prefix": "rm(",
          "library": "var_list.r",
          "varRefreshCmd": "cat(var_dic_list()) "
        }
      },
      "types_to_exclude": [
        "module",
        "function",
        "builtin_function_or_method",
        "instance",
        "_Feature"
      ],
      "window_display": false
    },
    "colab": {
      "provenance": [],
      "include_colab_link": true
    }
  },
  "nbformat": 4,
  "nbformat_minor": 0
}